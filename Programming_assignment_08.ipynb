{
 "cells": [
  {
   "cell_type": "code",
   "execution_count": null,
   "id": "3dae5f94",
   "metadata": {},
   "outputs": [],
   "source": [
    "# Write a Python Program to Add Two Matrices?\n",
    "\n",
    "X = [[12,7,3],\n",
    "    [4 ,5,6],\n",
    "    [7 ,8,9]]\n",
    "\n",
    "Y = [[5,8,1],\n",
    "    [6,7,3],\n",
    "    [4,5,9]]\n",
    "\n",
    "result = [[X[i][j] + Y[i][j]  for j in range(len(X[0]))] for i in range(len(X))]\n",
    "\n",
    "for r in result:\n",
    "   print(r)\n",
    "\n"
   ]
  },
  {
   "cell_type": "code",
   "execution_count": null,
   "id": "1e2b2e3a",
   "metadata": {},
   "outputs": [],
   "source": [
    "# Write a Python Program to Multiply Two Matrices?\n",
    "\n",
    "X = [[12,7,3],\n",
    "    [4 ,5,6],\n",
    "    [7 ,8,9]]\n",
    "\n",
    "Y = [[5,8,1,2],\n",
    "    [6,7,3,0],\n",
    "    [4,5,9,1]]\n",
    "\n",
    "result = [[0,0,0,0],\n",
    "         [0,0,0,0],\n",
    "         [0,0,0,0]]\n",
    "\n",
    "for i in range(len(X)):\n",
    "   for j in range(len(Y[0])):\n",
    "       for k in range(len(Y)):\n",
    "           result[i][j] += X[i][k] * Y[k][j]\n",
    "\n",
    "for r in result:\n",
    "   print(r)\n"
   ]
  },
  {
   "cell_type": "code",
   "execution_count": null,
   "id": "68442fe5",
   "metadata": {},
   "outputs": [],
   "source": [
    "#Write a Python Program to Transpose a Matrix?\n",
    "\n",
    "X = [[12,7],\n",
    "    [4 ,5],\n",
    "    [3 ,8]]\n",
    "\n",
    "result = [[0,0,0],\n",
    "         [0,0,0]]\n",
    "\n",
    "for i in range(len(X)):\n",
    "   for j in range(len(X[0])):\n",
    "       result[j][i] = X[i][j]\n",
    "\n",
    "for r in result:\n",
    "   print(r)"
   ]
  },
  {
   "cell_type": "code",
   "execution_count": null,
   "id": "73ccf16e",
   "metadata": {},
   "outputs": [],
   "source": [
    "#Write a Python Program to Sort Words in Alphabetic Order?\n",
    "def Func(S):\n",
    "  W = S.split(\" \")\n",
    "  for i in range(len(W)):\n",
    "     \n",
    "      \n",
    "      W[i]=W[i].lower() \n",
    "  S = sorted(W)\n",
    "  print(' '.join(S))\n",
    " \n",
    "S = \"the Quick brown fox jumPs over the lazY Dog\"\n",
    " \n",
    "# function call\n",
    "Func(S)"
   ]
  },
  {
   "cell_type": "code",
   "execution_count": null,
   "id": "2049fb82",
   "metadata": {},
   "outputs": [],
   "source": [
    "# Write a Python Program to Remove Punctuation From a String?\n",
    "\n",
    "import string\n",
    " \n",
    "test_str = 'Gfg, is best: for ! Geeks ;'\n",
    " \n",
    "test_str = test_str.translate\n",
    "    (str.maketrans('', '', string.punctuation))\n",
    "print(test_str)"
   ]
  }
 ],
 "metadata": {
  "kernelspec": {
   "display_name": "Python 3 (ipykernel)",
   "language": "python",
   "name": "python3"
  },
  "language_info": {
   "codemirror_mode": {
    "name": "ipython",
    "version": 3
   },
   "file_extension": ".py",
   "mimetype": "text/x-python",
   "name": "python",
   "nbconvert_exporter": "python",
   "pygments_lexer": "ipython3",
   "version": "3.9.12"
  }
 },
 "nbformat": 4,
 "nbformat_minor": 5
}
