{
 "cells": [
  {
   "cell_type": "markdown",
   "id": "a642c576",
   "metadata": {},
   "source": [
    "# Write a Python program to convert kilometers to miles?"
   ]
  },
  {
   "cell_type": "code",
   "execution_count": 7,
   "id": "06b7aad1",
   "metadata": {},
   "outputs": [
    {
     "name": "stdout",
     "output_type": "stream",
     "text": [
      "Enter value in kilometer:3.5\n",
      "Enter the value of kilometer to miles: 2.1747985\n"
     ]
    }
   ],
   "source": [
    "kilometer = float(input(\"Enter value in kilometer:\")) \n",
    "conversion_factor = 0.621371\n",
    "miles = kilometer * conversion_factor\n",
    "print(\"Enter the value of kilometer to miles:\" , miles)\n"
   ]
  },
  {
   "cell_type": "markdown",
   "id": "1be55564",
   "metadata": {},
   "source": [
    "# Write a Python program to convert Celsius to Fahrenheit?"
   ]
  },
  {
   "cell_type": "code",
   "execution_count": null,
   "id": "d922ac7d",
   "metadata": {},
   "outputs": [],
   "source": [
    "celsius = float(input(\"Enetr the value in celsius:\"))\n",
    "\n",
    "fahrenheit = (celsius *1.8) + 32\n",
    "\n",
    "print(\"Enetr the value celsius into fahrenheit: \", fahrenheit)\n"
   ]
  },
  {
   "cell_type": "markdown",
   "id": "b2ac5bae",
   "metadata": {},
   "source": [
    "# Write a Python program to display calendar?"
   ]
  },
  {
   "cell_type": "code",
   "execution_count": 20,
   "id": "7fade8fd",
   "metadata": {},
   "outputs": [
    {
     "name": "stdout",
     "output_type": "stream",
     "text": [
      "   November 2021\n",
      "Mo Tu We Th Fr Sa Su\n",
      " 1  2  3  4  5  6  7\n",
      " 8  9 10 11 12 13 14\n",
      "15 16 17 18 19 20 21\n",
      "22 23 24 25 26 27 28\n",
      "29 30\n",
      "\n"
     ]
    }
   ],
   "source": [
    "import calendar\n",
    "\n",
    "year = 2021\n",
    "month = 11\n",
    "\n",
    "print(calendar.month(year,month))\n"
   ]
  },
  {
   "cell_type": "markdown",
   "id": "886feba7",
   "metadata": {},
   "source": [
    "# Write a Python program to solve quadratic equation?"
   ]
  },
  {
   "cell_type": "code",
   "execution_count": 30,
   "id": "520ec269",
   "metadata": {},
   "outputs": [
    {
     "name": "stdout",
     "output_type": "stream",
     "text": [
      "The roots are\n",
      "(-0.7-1.2288205727444508j)\n",
      "(-0.7+1.2288205727444508j)\n"
     ]
    }
   ],
   "source": [
    "a = 5\n",
    "b = 7\n",
    "c = 10\n",
    "  \n",
    "d = (b**2) - (4 * a*c)\n",
    "  \n",
    "\n",
    "ans1 = (-b-cmath.sqrt(d))/(2 * a)\n",
    "ans2 = (-b + cmath.sqrt(d))/(2 * a)\n",
    "  \n",
    "print('The roots are')\n",
    "print(ans1)\n",
    "print(ans2)"
   ]
  },
  {
   "cell_type": "markdown",
   "id": "32f9827a",
   "metadata": {},
   "source": [
    "# Write a Python program to swap two variables without temp variable?"
   ]
  },
  {
   "cell_type": "code",
   "execution_count": 26,
   "id": "e548a098",
   "metadata": {},
   "outputs": [
    {
     "name": "stdout",
     "output_type": "stream",
     "text": [
      "before swapping:\n",
      "Value of x :  10  and y :  20\n",
      "after swapping:\n",
      "Value of x :  20  and y :  10\n"
     ]
    }
   ],
   "source": [
    "x= 10\n",
    "y = 20\n",
    "\n",
    "print(\"before swapping:\")\n",
    "print(\"Value of x : \", x, \" and y : \", y)\n",
    "      \n",
    "x , y = y , x\n",
    "      \n",
    "print(\"after swapping:\")\n",
    "print(\"Value of x : \", x, \" and y : \", y)"
   ]
  },
  {
   "cell_type": "code",
   "execution_count": null,
   "id": "d8791f6a",
   "metadata": {},
   "outputs": [],
   "source": []
  }
 ],
 "metadata": {
  "kernelspec": {
   "display_name": "Python 3 (ipykernel)",
   "language": "python",
   "name": "python3"
  },
  "language_info": {
   "codemirror_mode": {
    "name": "ipython",
    "version": 3
   },
   "file_extension": ".py",
   "mimetype": "text/x-python",
   "name": "python",
   "nbconvert_exporter": "python",
   "pygments_lexer": "ipython3",
   "version": "3.9.12"
  }
 },
 "nbformat": 4,
 "nbformat_minor": 5
}
