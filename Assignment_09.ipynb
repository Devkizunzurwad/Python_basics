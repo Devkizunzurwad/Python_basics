{
 "cells": [
  {
   "cell_type": "code",
   "execution_count": null,
   "id": "b3bb01c1",
   "metadata": {},
   "outputs": [],
   "source": [
    "1. What does an absolute path start with your operating system?\n",
    "An absolute path is a path that contains the entire path to the file or directory that you need to access. This path will begin \n",
    "at the home directory of your computer"
   ]
  },
  {
   "cell_type": "code",
   "execution_count": null,
   "id": "ba12c287",
   "metadata": {},
   "outputs": [],
   "source": [
    "2. To what does a relative path refer?\n",
    "A relative path refers to a location that is relative to a current directory. "
   ]
  },
  {
   "cell_type": "code",
   "execution_count": null,
   "id": "f38e49a1",
   "metadata": {},
   "outputs": [],
   "source": [
    "3. What do the functions os.getcwd() and os.chdir() do?\n",
    "getcwd() : CWD stands for Current Working Directory. This function allows you to see what your current working directory is.\n",
    "chdir(\"path-to-dir\") : Short for CHange DIRectory, this function allows you to set the current working directory to a path of \n",
    "your choice."
   ]
  },
  {
   "cell_type": "code",
   "execution_count": null,
   "id": "bfba29c3",
   "metadata": {},
   "outputs": [],
   "source": [
    "5. In C:\\bacon\\eggs\\spam.txt, which part is the dir name, and which part is the base name?\n",
    "    C:\\bacon\\eggs is the dir name, while spam. txt is the base name."
   ]
  },
  {
   "cell_type": "code",
   "execution_count": null,
   "id": "59a31f6f",
   "metadata": {},
   "outputs": [],
   "source": [
    "6. What are the three “mode” arguments that can be passed to the open() function?\n",
    "r: Opens the file in read-only mode. Starts reading from the beginning of the file and is the default mode for the open() \n",
    "    function.\n",
    "rb: Opens the file as read-only in binary format and starts reading from the beginning of the file. While binary format can be\n",
    "    used for different purposes, it is usually used when dealing with things like images, videos, etc.\n",
    "r+: Opens a file for reading and writing, placing the pointer at the beginning of the file."
   ]
  },
  {
   "cell_type": "code",
   "execution_count": null,
   "id": "974a0e22",
   "metadata": {},
   "outputs": [],
   "source": [
    "7. What happens if an existing file is opened in write mode?\n",
    "its contents are discarded and the file is treated as a new empty file."
   ]
  },
  {
   "cell_type": "code",
   "execution_count": null,
   "id": "b832fa71",
   "metadata": {},
   "outputs": [],
   "source": [
    "8. How do you tell the difference between read() and readlines()?\n",
    "The main difference is that read() will read the whole file at once and then print out the first characters that take up as \n",
    "many bytes as you specify in the parenthesis.\n",
    "readline() that will read and print out only the first characters that take up as many bytes as you specify in the parenthesis."
   ]
  },
  {
   "cell_type": "code",
   "execution_count": null,
   "id": "106fe477",
   "metadata": {},
   "outputs": [],
   "source": [
    "9. What data structure does a shelf value resemble?\n",
    "A shelf value resembles a dictionary value; it has keys and values, along with keys() and values() methods that work similarly \n",
    "to the dictionary methods of the same names."
   ]
  }
 ],
 "metadata": {
  "kernelspec": {
   "display_name": "Python 3 (ipykernel)",
   "language": "python",
   "name": "python3"
  },
  "language_info": {
   "codemirror_mode": {
    "name": "ipython",
    "version": 3
   },
   "file_extension": ".py",
   "mimetype": "text/x-python",
   "name": "python",
   "nbconvert_exporter": "python",
   "pygments_lexer": "ipython3",
   "version": "3.9.12"
  }
 },
 "nbformat": 4,
 "nbformat_minor": 5
}
