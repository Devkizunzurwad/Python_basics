{
 "cells": [
  {
   "cell_type": "code",
   "execution_count": null,
   "id": "f57cd3f3",
   "metadata": {},
   "outputs": [],
   "source": [
    "# 1. Create a list called years_list, starting with the year of your birth, and each year thereafter until\n",
    "the year of your fifth birthday. For example, if you were born in 1980. the list would be years_list =\n",
    "[1980, 1981, 1982, 1983, 1984, 1985].\n",
    "\n",
    "years_list = [i for i in range(1997,1997+6)]\n",
    "years_list\n",
    "[1997, 1998, 1999, 2000, 2001, 2002]"
   ]
  },
  {
   "cell_type": "code",
   "execution_count": null,
   "id": "32bf2a6e",
   "metadata": {},
   "outputs": [],
   "source": [
    "# In which year in years_list was your third birthday? Remember, you were 0 years of age for your first year.\n",
    " \n",
    "    years_list[3]\n",
    "    2000"
   ]
  },
  {
   "cell_type": "code",
   "execution_count": null,
   "id": "6360f3c8",
   "metadata": {},
   "outputs": [],
   "source": [
    "# In the years list, which year were you the oldest?\n",
    "max(years_list)\n",
    "2002"
   ]
  },
  {
   "cell_type": "code",
   "execution_count": null,
   "id": "2bdd45bc",
   "metadata": {},
   "outputs": [],
   "source": [
    "# Make a list called things with these three strings as elements: mozzarella, cinderella, salmonella;.\n",
    "\n",
    "things = list(['mozzarella', 'cinderella','salmonella'])\n",
    "things\n",
    "['mozzarella', 'cinderella', 'salmonella']"
   ]
  },
  {
   "cell_type": "code",
   "execution_count": null,
   "id": "e1e17863",
   "metadata": {},
   "outputs": [],
   "source": [
    "# Capitalize the element in things that refers to a person and then print the list. Did it change the element in the list?\n",
    "\n",
    "for i in things:\n",
    "    print(i.capitalize())\n",
    "things\n",
    "\n",
    "Mozzarella\n",
    "Cinderella\n",
    "Salmonella\n",
    "['mozzarella', 'cinderella', 'salmonella']"
   ]
  },
  {
   "cell_type": "code",
   "execution_count": null,
   "id": "6cb977d5",
   "metadata": {},
   "outputs": [],
   "source": [
    "# Make a surprise list with the elements Groucho, Chico, and Harpo.\n",
    "\n",
    "surprise_list = [\"Groucho\", \"Chico\", \"Harpo\"]\n",
    "surprise_list\n",
    "['Groucho', 'Chico', 'Harpo']"
   ]
  },
  {
   "cell_type": "code",
   "execution_count": null,
   "id": "6ea69c10",
   "metadata": {},
   "outputs": [],
   "source": [
    "# Lowercase the last element of the surprise list, reverse it, and then capitalize it.\n",
    "\n",
    "surprise_list[-1].lower()\n",
    "'harpo'\n",
    "surprise_list[-1][::-1]\n",
    "'opraH'\n",
    "surprise_list[-1][::-1].upper()\n",
    "'OPRAH'"
   ]
  },
  {
   "cell_type": "code",
   "execution_count": null,
   "id": "7a6720b4",
   "metadata": {},
   "outputs": [],
   "source": [
    "#  Make an English-to-French dictionary called e2f and print it. Here are your starter words: dog is chien, cat is chat, \n",
    " and walrus is morse.\n",
    "    \n",
    "e2f = {'dog':'chien','cat':'chat','walrus':'morse'}"
   ]
  },
  {
   "cell_type": "code",
   "execution_count": null,
   "id": "5e1d114e",
   "metadata": {},
   "outputs": [],
   "source": [
    "# Write the French word for walrus in your three-word dictionary e2f.\n",
    "\n",
    "e2f['walrus']\n",
    "'morse'"
   ]
  },
  {
   "cell_type": "code",
   "execution_count": null,
   "id": "77b31626",
   "metadata": {},
   "outputs": [],
   "source": [
    "# Make a French-to-English dictionary called f2e from e2f. Use the items method.\n",
    "\n",
    "f2e = dict((key,value) for value,key in e2f.items())\n",
    "f2e\n",
    "{'chat': 'cat', 'chien': 'dog', 'morse': 'walrus'"
   ]
  },
  {
   "cell_type": "code",
   "execution_count": null,
   "id": "f0bb0c0e",
   "metadata": {},
   "outputs": [],
   "source": [
    " # Print the English version of the French word chien using f2e.\n",
    "\n",
    "f2e['chien']\n",
    "'dog'"
   ]
  },
  {
   "cell_type": "code",
   "execution_count": null,
   "id": "5f10e11c",
   "metadata": {},
   "outputs": [],
   "source": [
    "#  Make and print a set of English words from the keys in e2f.\n",
    "\n",
    "e2f.keys()\n",
    "dict_keys(['dog', 'cat', 'walrus'])"
   ]
  },
  {
   "cell_type": "code",
   "execution_count": null,
   "id": "6cd6af97",
   "metadata": {},
   "outputs": [],
   "source": [
    "#  Print the top-level keys of life.\n",
    "\n",
    "life.keys()\n",
    "dict_keys(['animals', 'plants', 'other'])\n"
   ]
  },
  {
   "cell_type": "code",
   "execution_count": null,
   "id": "10007ccb",
   "metadata": {},
   "outputs": [],
   "source": [
    "#  Print the keys for life['animals'].\n",
    "\n",
    "life['animals'].keys()\n",
    "dict_keys(['cat', 'octopi', 'emus'])\n"
   ]
  },
  {
   "cell_type": "code",
   "execution_count": null,
   "id": "f732153b",
   "metadata": {},
   "outputs": [],
   "source": [
    "\n",
    "\n",
    "\n"
   ]
  }
 ],
 "metadata": {
  "kernelspec": {
   "display_name": "Python 3 (ipykernel)",
   "language": "python",
   "name": "python3"
  },
  "language_info": {
   "codemirror_mode": {
    "name": "ipython",
    "version": 3
   },
   "file_extension": ".py",
   "mimetype": "text/x-python",
   "name": "python",
   "nbconvert_exporter": "python",
   "pygments_lexer": "ipython3",
   "version": "3.9.12"
  }
 },
 "nbformat": 4,
 "nbformat_minor": 5
}
