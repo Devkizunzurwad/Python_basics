{
 "cells": [
  {
   "cell_type": "code",
   "execution_count": null,
   "id": "8d78c124",
   "metadata": {},
   "outputs": [],
   "source": [
    "#Write a Python Program to Display Fibonacci Sequence Using Recursion?\n",
    "\n",
    "def recur_fibo(n):\n",
    "    if n <= 1:\n",
    "        return n\n",
    "    else:\n",
    "        return(recur_fibo(n-1) + recur_fibo(n-2))\n",
    "nterms = int(input(\"How many terms?\"))\n",
    "if nterms <= 0:\n",
    "    print(\"Enter a positive number\")\n",
    "else:\n",
    "    print(\"fibonacci Sequence:\")\n",
    "    for i in range(nterms):\n",
    "        print(recur_fibo(i))"
   ]
  },
  {
   "cell_type": "code",
   "execution_count": null,
   "id": "ef676d3f",
   "metadata": {},
   "outputs": [],
   "source": [
    "#Write a Python Program to Find Factorial of Number Using Recursion?\n",
    "\n",
    "def recur_facto(n):\n",
    "    if n == 1:\n",
    "        return n\n",
    "    else:\n",
    "        return n*recur_facto(n-1)\n",
    "num = int(input(\"Enter a number\"))\n",
    "\n",
    "if n < 0:\n",
    "    print(\"no factorial for negative number\")\n",
    "elif n == 0:\n",
    "    print(\"factorial of 0 is 0\")\n",
    "else:\n",
    "    print(\"The factorial of\",num,\"is\",recur_factorial(num))"
   ]
  },
  {
   "cell_type": "code",
   "execution_count": 5,
   "id": "c71abad6",
   "metadata": {},
   "outputs": [
    {
     "name": "stdout",
     "output_type": "stream",
     "text": [
      "Enter your height in cm:162\n",
      "Enter your weight in kg:51\n"
     ]
    }
   ],
   "source": [
    "#Write a Python Program to calculate your Body Mass Index?\n",
    "\n",
    "height = int(input(\"Enter your height in cm:\"))\n",
    "weight = int(input(\"Enter your weight in kg:\"))\n",
    "\n",
    "BMI = weight /(height/100)**2\n"
   ]
  },
  {
   "cell_type": "code",
   "execution_count": 6,
   "id": "d707f8f2",
   "metadata": {},
   "outputs": [
    {
     "data": {
      "text/plain": [
       "19.43301326017375"
      ]
     },
     "execution_count": 6,
     "metadata": {},
     "output_type": "execute_result"
    }
   ],
   "source": [
    "BMI"
   ]
  },
  {
   "cell_type": "code",
   "execution_count": 8,
   "id": "250fd83c",
   "metadata": {},
   "outputs": [
    {
     "name": "stdout",
     "output_type": "stream",
     "text": [
      "Enter the number14\n",
      "The value is: 2.6390573296152584\n"
     ]
    }
   ],
   "source": [
    "#Write a Python Program to calculate the natural logarithm of any number?\n",
    "\n",
    "import math\n",
    "\n",
    "number = int(input(\"Enter the number\"))\n",
    "\n",
    "ans = math.log(number)\n",
    "\n",
    "print(\"The value is:\", ans)"
   ]
  },
  {
   "cell_type": "code",
   "execution_count": 4,
   "id": "5131b78f",
   "metadata": {},
   "outputs": [
    {
     "name": "stdout",
     "output_type": "stream",
     "text": [
      "Enter a number3\n",
      "36\n"
     ]
    }
   ],
   "source": [
    "#Write a Python Program for cube sum of first n natural numbers?\n",
    "def sumofseries(n):\n",
    "    sum = 0\n",
    "    for i in range(1, n+1):\n",
    "        sum += i*i*i\n",
    "    return sum\n",
    "\n",
    "n = int(input(\"Enter a number\"))\n",
    "print(sumofseries(n))"
   ]
  },
  {
   "cell_type": "code",
   "execution_count": null,
   "id": "ef1fedb4",
   "metadata": {},
   "outputs": [],
   "source": []
  },
  {
   "cell_type": "code",
   "execution_count": null,
   "id": "5c30a539",
   "metadata": {},
   "outputs": [],
   "source": []
  }
 ],
 "metadata": {
  "kernelspec": {
   "display_name": "Python 3 (ipykernel)",
   "language": "python",
   "name": "python3"
  },
  "language_info": {
   "codemirror_mode": {
    "name": "ipython",
    "version": 3
   },
   "file_extension": ".py",
   "mimetype": "text/x-python",
   "name": "python",
   "nbconvert_exporter": "python",
   "pygments_lexer": "ipython3",
   "version": "3.9.12"
  }
 },
 "nbformat": 4,
 "nbformat_minor": 5
}
