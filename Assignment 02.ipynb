{
 "cells": [
  {
   "cell_type": "markdown",
   "id": "eac79ad6",
   "metadata": {},
   "source": [
    "# What are the two values of the Boolean data type? How do you write them?"
   ]
  },
  {
   "cell_type": "code",
   "execution_count": null,
   "id": "496ba9d1",
   "metadata": {},
   "outputs": [],
   "source": [
    "there are two boolean data types : True and False And will write it as using Capital T and capital F."
   ]
  },
  {
   "cell_type": "markdown",
   "id": "50f95a8b",
   "metadata": {},
   "source": [
    "# What are the three different types of Boolean operators?"
   ]
  },
  {
   "cell_type": "code",
   "execution_count": null,
   "id": "58e38a21",
   "metadata": {},
   "outputs": [],
   "source": [
    "Three boolean operators :\n",
    "    And \n",
    "    OR \n",
    "    Not\n",
    "    "
   ]
  },
  {
   "cell_type": "markdown",
   "id": "d9941af8",
   "metadata": {},
   "source": [
    "# Make a list of each Boolean operators truth tables (i.e. every possible combination of Boolean\n",
    "values for the operator and what it evaluate )."
   ]
  },
  {
   "cell_type": "code",
   "execution_count": null,
   "id": "949201ff",
   "metadata": {},
   "outputs": [],
   "source": [
    "True and True is True.\n",
    "\n",
    "True and False is False.\n",
    "\n",
    "False and True is False.\n",
    "\n",
    "False and False is False.\n",
    "\n",
    "True or True is True.\n",
    "\n",
    "True or False is True.\n",
    "\n",
    "False or True is True.\n",
    "\n",
    "False or False is False.\n",
    "\n",
    "not True is False.\n",
    "\n",
    "not False is True."
   ]
  },
  {
   "cell_type": "markdown",
   "id": "acc23023",
   "metadata": {},
   "source": [
    "# What are the values of the following expressions?\n",
    "(5 > 4) and (3 == 5)   -------------------------False\n",
    "not (5 > 4) ------------------------------------False\n",
    "(5 > 4) or (3 == 5)-----------------------------True\n",
    "not ((5 > 4) or (3 == 5))-----------------------False\n",
    "(True and True) and (True == False)-------------False\n",
    "(not False) or (not True)-----------------------True"
   ]
  },
  {
   "cell_type": "markdown",
   "id": "827a6dfb",
   "metadata": {},
   "source": [
    "# What are the six comparison operators?"
   ]
  },
  {
   "cell_type": "code",
   "execution_count": null,
   "id": "d400c3b1",
   "metadata": {},
   "outputs": [],
   "source": [
    "less than ( < )\n",
    "less than or equal to ( <= )\n",
    "greater than ( > )\n",
    "greater than or equal to ( >= ) \n",
    "equal to ( == ) \n",
    "not equal to ( != )."
   ]
  },
  {
   "cell_type": "markdown",
   "id": "ac4ff0e9",
   "metadata": {},
   "source": [
    "# How do you tell the difference between the equal to and assignment operators?Describe a condition and when you would use one."
   ]
  },
  {
   "cell_type": "code",
   "execution_count": null,
   "id": "7c11f8ae",
   "metadata": {},
   "outputs": [],
   "source": [
    "\"=\" this ia an assignment operator is used to assign the value right to variable and \"==\" operator checks whether two \n",
    "conditions are equal or not."
   ]
  },
  {
   "cell_type": "markdown",
   "id": "9bf5bea3",
   "metadata": {},
   "source": [
    "# Identify the three blocks in this code:\n",
    "spam = 0\n",
    "if spam == 10:\n",
    "print('eggs')\n",
    "if spam 5:\n",
    "print('bacon')\n",
    "else:\n",
    "print('ham')\n",
    "print('spam')\n",
    "print('spam')"
   ]
  },
  {
   "cell_type": "code",
   "execution_count": null,
   "id": "4daed01a",
   "metadata": {},
   "outputs": [],
   "source": [
    "Three blocks:\n",
    "    print('ham')\n",
    "    print('eggs')\n",
    "    print('spam')"
   ]
  },
  {
   "cell_type": "markdown",
   "id": "b27927d4",
   "metadata": {},
   "source": [
    "# Write code that prints Hello if 1 is stored in spam, prints Howdy if 2 is stored in spam, and prints Greetings! if anything else is stored in spam."
   ]
  },
  {
   "cell_type": "code",
   "execution_count": 21,
   "id": "b6e254ff",
   "metadata": {},
   "outputs": [
    {
     "name": "stdout",
     "output_type": "stream",
     "text": [
      "3\n",
      "Greetings!\n"
     ]
    }
   ],
   "source": [
    "spam = int(input())\n",
    "\n",
    "if spam == 1:\n",
    "    print('Hello')\n",
    "elif spam == 2:\n",
    "    print('Howdy')\n",
    "else:\n",
    "    print('Greetings!')"
   ]
  },
  {
   "cell_type": "markdown",
   "id": "62c7a52a",
   "metadata": {},
   "source": [
    "# If your programme is stuck in an endless loop, what keys you’ll press?\n",
    "\n",
    "Ctrl+c"
   ]
  },
  {
   "cell_type": "markdown",
   "id": "93209baa",
   "metadata": {},
   "source": [
    "# How can you tell the difference between break and continue?"
   ]
  },
  {
   "cell_type": "code",
   "execution_count": null,
   "id": "bd412007",
   "metadata": {},
   "outputs": [],
   "source": [
    "break the statements and stops the loops and continue statement skips the single iteration in a loop."
   ]
  },
  {
   "cell_type": "markdown",
   "id": "c193854d",
   "metadata": {},
   "source": [
    "# Write a short program that prints the numbers 1 to 10 using a for loop. Then write an equivalent program that prints the numbers 1 to 10 using a while loop."
   ]
  },
  {
   "cell_type": "code",
   "execution_count": 22,
   "id": "591f07e2",
   "metadata": {},
   "outputs": [
    {
     "name": "stdout",
     "output_type": "stream",
     "text": [
      "1\n",
      "2\n",
      "3\n",
      "4\n",
      "5\n",
      "6\n",
      "7\n",
      "8\n",
      "9\n",
      "10\n"
     ]
    }
   ],
   "source": [
    "i = 1\n",
    "while(i<=10):\n",
    "    print(i)\n",
    "    i+=1"
   ]
  },
  {
   "cell_type": "code",
   "execution_count": 24,
   "id": "faea47c5",
   "metadata": {},
   "outputs": [
    {
     "name": "stdout",
     "output_type": "stream",
     "text": [
      "1\n",
      "2\n",
      "3\n",
      "4\n",
      "5\n",
      "6\n",
      "7\n",
      "8\n",
      "9\n",
      "10\n"
     ]
    }
   ],
   "source": [
    "for i in range(1,11):\n",
    "    print(i)\n",
    "   \n",
    "    "
   ]
  },
  {
   "cell_type": "markdown",
   "id": "006e3e04",
   "metadata": {},
   "source": [
    "# If you had a function named bacon() inside a module named spam, how would you call it after importing spam?\n",
    "\n",
    "spam.bacon()"
   ]
  }
 ],
 "metadata": {
  "kernelspec": {
   "display_name": "Python 3 (ipykernel)",
   "language": "python",
   "name": "python3"
  },
  "language_info": {
   "codemirror_mode": {
    "name": "ipython",
    "version": 3
   },
   "file_extension": ".py",
   "mimetype": "text/x-python",
   "name": "python",
   "nbconvert_exporter": "python",
   "pygments_lexer": "ipython3",
   "version": "3.9.12"
  }
 },
 "nbformat": 4,
 "nbformat_minor": 5
}
