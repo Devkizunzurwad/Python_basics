{
 "cells": [
  {
   "cell_type": "markdown",
   "id": "3f846e34",
   "metadata": {},
   "source": [
    "# What exactly is [ ]?"
   ]
  },
  {
   "cell_type": "code",
   "execution_count": null,
   "id": "6dbf57da",
   "metadata": {},
   "outputs": [],
   "source": [
    "The empty list value , the least value that contains no value."
   ]
  },
  {
   "cell_type": "markdown",
   "id": "382d3666",
   "metadata": {},
   "source": [
    "# In a list of values stored in a variable called spam, how would you assign the value & as the third value? (Assume [2, 4, 6, 8, 10] are in spam.)"
   ]
  },
  {
   "cell_type": "markdown",
   "id": "4a7267eb",
   "metadata": {},
   "source": [
    "# Lets pretend the spam includes the list ['a', 'b', 'c','d'] for the next three queries."
   ]
  },
  {
   "cell_type": "code",
   "execution_count": 11,
   "id": "cb25c9d7",
   "metadata": {},
   "outputs": [],
   "source": [
    "spam = [2,4,6,8,10]\n",
    "spam[2]= 'hello'"
   ]
  },
  {
   "cell_type": "code",
   "execution_count": 12,
   "id": "75ae25fb",
   "metadata": {},
   "outputs": [
    {
     "data": {
      "text/plain": [
       "[2, 4, 'hello', 8, 10]"
      ]
     },
     "execution_count": 12,
     "metadata": {},
     "output_type": "execute_result"
    }
   ],
   "source": [
    "spam"
   ]
  },
  {
   "cell_type": "markdown",
   "id": "4a43e616",
   "metadata": {},
   "source": [
    "# What is the value of spam[int(int('3' * 2) / 11)]?"
   ]
  },
  {
   "cell_type": "code",
   "execution_count": 17,
   "id": "85dfaa28",
   "metadata": {},
   "outputs": [
    {
     "data": {
      "text/plain": [
       "'d'"
      ]
     },
     "execution_count": 17,
     "metadata": {},
     "output_type": "execute_result"
    }
   ],
   "source": [
    "spam= ['a','b','c','d']\n",
    "spam[int(int('3'*2)/11)]"
   ]
  },
  {
   "cell_type": "markdown",
   "id": "7794ad96",
   "metadata": {},
   "source": [
    "# What is the value of spam[-1]?"
   ]
  },
  {
   "cell_type": "code",
   "execution_count": 19,
   "id": "5246ccec",
   "metadata": {},
   "outputs": [
    {
     "data": {
      "text/plain": [
       "'d'"
      ]
     },
     "execution_count": 19,
     "metadata": {},
     "output_type": "execute_result"
    }
   ],
   "source": [
    "spam= ['a','b','c','d']\n",
    "spam[-1]"
   ]
  },
  {
   "cell_type": "markdown",
   "id": "35e0aea9",
   "metadata": {},
   "source": [
    "# What is the value of spam[:2]?"
   ]
  },
  {
   "cell_type": "code",
   "execution_count": 20,
   "id": "19a7a5ca",
   "metadata": {},
   "outputs": [
    {
     "data": {
      "text/plain": [
       "['a', 'b']"
      ]
     },
     "execution_count": 20,
     "metadata": {},
     "output_type": "execute_result"
    }
   ],
   "source": [
    "spam= ['a','b','c','d']\n",
    "spam[:2]"
   ]
  },
  {
   "cell_type": "markdown",
   "id": "5cd81076",
   "metadata": {},
   "source": [
    "# Lets pretend bacon has the list [3.14,'cat',11,'cat', True] for the next three questions.\n",
    "What is the value of bacon.index('cat')?"
   ]
  },
  {
   "cell_type": "code",
   "execution_count": 30,
   "id": "f026065a",
   "metadata": {},
   "outputs": [],
   "source": [
    "bacon = [3.14, 'cat', 11, 'cat', True]"
   ]
  },
  {
   "cell_type": "code",
   "execution_count": 31,
   "id": "d6f6636e",
   "metadata": {},
   "outputs": [
    {
     "data": {
      "text/plain": [
       "1"
      ]
     },
     "execution_count": 31,
     "metadata": {},
     "output_type": "execute_result"
    }
   ],
   "source": [
    "bacon.index('cat')"
   ]
  },
  {
   "cell_type": "markdown",
   "id": "1f8f3585",
   "metadata": {},
   "source": [
    "# How does bacon.append(99) change the look of the list value in bacon?"
   ]
  },
  {
   "cell_type": "code",
   "execution_count": 40,
   "id": "2e888ac6",
   "metadata": {},
   "outputs": [],
   "source": [
    "bacon = [3.14, 'cat', 11, 'cat', True]\n",
    "bacon.append(99)"
   ]
  },
  {
   "cell_type": "code",
   "execution_count": 41,
   "id": "bcf27640",
   "metadata": {},
   "outputs": [
    {
     "data": {
      "text/plain": [
       "[3.14, 'cat', 11, 'cat', True, 99]"
      ]
     },
     "execution_count": 41,
     "metadata": {},
     "output_type": "execute_result"
    }
   ],
   "source": [
    "bacon"
   ]
  },
  {
   "cell_type": "markdown",
   "id": "5d47dfcd",
   "metadata": {},
   "source": [
    "# How does bacon.remove('cat') change the look of the list in bacon?"
   ]
  },
  {
   "cell_type": "code",
   "execution_count": 42,
   "id": "3fabce38",
   "metadata": {},
   "outputs": [],
   "source": [
    "bacon = [3.14, 'cat', 11, 'cat', True]\n",
    "bacon.remove('cat')"
   ]
  },
  {
   "cell_type": "code",
   "execution_count": 43,
   "id": "8577047c",
   "metadata": {},
   "outputs": [
    {
     "data": {
      "text/plain": [
       "[3.14, 11, 'cat', True]"
      ]
     },
     "execution_count": 43,
     "metadata": {},
     "output_type": "execute_result"
    }
   ],
   "source": [
    "bacon"
   ]
  },
  {
   "cell_type": "markdown",
   "id": "65af0ed4",
   "metadata": {},
   "source": [
    "# What are the list concatenation and list replication operators?"
   ]
  },
  {
   "cell_type": "code",
   "execution_count": 44,
   "id": "81f3135c",
   "metadata": {},
   "outputs": [],
   "source": [
    "#list concatenation\n",
    "l1 = [2,4,5]\n",
    "l2 = [5,6,7]"
   ]
  },
  {
   "cell_type": "code",
   "execution_count": 45,
   "id": "3a349aea",
   "metadata": {},
   "outputs": [
    {
     "data": {
      "text/plain": [
       "[2, 4, 5, 5, 6, 7]"
      ]
     },
     "execution_count": 45,
     "metadata": {},
     "output_type": "execute_result"
    }
   ],
   "source": [
    "l1+l2"
   ]
  },
  {
   "cell_type": "code",
   "execution_count": 49,
   "id": "a577859f",
   "metadata": {},
   "outputs": [
    {
     "data": {
      "text/plain": [
       "[4, 5, 4, 5, 4, 5, 4, 5]"
      ]
     },
     "execution_count": 49,
     "metadata": {},
     "output_type": "execute_result"
    }
   ],
   "source": [
    "#list replication\n",
    "l = [4, 5]\n",
    "l*4"
   ]
  },
  {
   "cell_type": "markdown",
   "id": "a88cbba3",
   "metadata": {},
   "source": [
    "# What is difference between the list methods append() and insert()?"
   ]
  },
  {
   "cell_type": "code",
   "execution_count": null,
   "id": "b7f76cd8",
   "metadata": {},
   "outputs": [],
   "source": [
    "append() - append function appends the value to the end of the list\n",
    "insert() - Insert function insert value before the index"
   ]
  },
  {
   "cell_type": "markdown",
   "id": "a5c6465d",
   "metadata": {},
   "source": [
    "# What are the two methods for removing items from a list?"
   ]
  },
  {
   "cell_type": "code",
   "execution_count": 60,
   "id": "284e89cf",
   "metadata": {},
   "outputs": [],
   "source": [
    "bacon = [45.2, 'devki', 45, True]\n",
    "bacon.remove(45)"
   ]
  },
  {
   "cell_type": "code",
   "execution_count": 61,
   "id": "7093bdc0",
   "metadata": {},
   "outputs": [
    {
     "data": {
      "text/plain": [
       "[45.2, 'devki', True]"
      ]
     },
     "execution_count": 61,
     "metadata": {},
     "output_type": "execute_result"
    }
   ],
   "source": [
    "bacon"
   ]
  },
  {
   "cell_type": "markdown",
   "id": "0cb34cf9",
   "metadata": {},
   "source": [
    "# Describe how list values and string values are identical."
   ]
  },
  {
   "cell_type": "code",
   "execution_count": null,
   "id": "b725dfe8",
   "metadata": {},
   "outputs": [],
   "source": [
    "The list values and string values they both are sequence. \n",
    "lists are mutable and strings are immutable.\n",
    "list can be of differenttypes and strings can contains only characters. \n",
    "list and string can be concatenated or replicated.\n",
    "They both are used in for loops."
   ]
  },
  {
   "cell_type": "markdown",
   "id": "45014956",
   "metadata": {},
   "source": [
    "# What is the difference between tuples and lists?"
   ]
  },
  {
   "cell_type": "code",
   "execution_count": null,
   "id": "c3037951",
   "metadata": {},
   "outputs": [],
   "source": [
    "lits are mutable, they can have values added , remove, changed , lists used the square brackets[].\n",
    "Tuples are immutable , they cannot be changed at all, tuples are writtern using parentheses (). "
   ]
  },
  {
   "cell_type": "markdown",
   "id": "51ce2335",
   "metadata": {},
   "source": [
    "# How do you type a tuple value that only contains the integer 42?"
   ]
  },
  {
   "cell_type": "code",
   "execution_count": 62,
   "id": "e27fb21e",
   "metadata": {},
   "outputs": [],
   "source": [
    "tuple = (42)"
   ]
  },
  {
   "cell_type": "code",
   "execution_count": 63,
   "id": "f5ee152b",
   "metadata": {},
   "outputs": [
    {
     "data": {
      "text/plain": [
       "42"
      ]
     },
     "execution_count": 63,
     "metadata": {},
     "output_type": "execute_result"
    }
   ],
   "source": [
    "tuple"
   ]
  },
  {
   "cell_type": "markdown",
   "id": "195f678d",
   "metadata": {},
   "source": [
    "# How do you get a list values tuple form? How do you get a tuple values list form?"
   ]
  },
  {
   "cell_type": "code",
   "execution_count": 4,
   "id": "3e4afabe",
   "metadata": {},
   "outputs": [],
   "source": [
    "t1 = (4,5)"
   ]
  },
  {
   "cell_type": "code",
   "execution_count": 5,
   "id": "eab84c1a",
   "metadata": {},
   "outputs": [],
   "source": [
    "t = list(t1)"
   ]
  },
  {
   "cell_type": "code",
   "execution_count": 6,
   "id": "674ec465",
   "metadata": {},
   "outputs": [
    {
     "data": {
      "text/plain": [
       "[4, 5]"
      ]
     },
     "execution_count": 6,
     "metadata": {},
     "output_type": "execute_result"
    }
   ],
   "source": [
    "t"
   ]
  },
  {
   "cell_type": "code",
   "execution_count": 3,
   "id": "36773060",
   "metadata": {},
   "outputs": [],
   "source": [
    "l1 = [3,5]\n",
    "l = tuple(l1)\n",
    "l\n",
    "l\n",
    "(3, 5)"
   ]
  },
  {
   "cell_type": "markdown",
   "id": "b484422a",
   "metadata": {},
   "source": [
    "# Variables that \"contain\" list values are not necessarily lists themselves. Instead, what do they contain?"
   ]
  },
  {
   "cell_type": "code",
   "execution_count": null,
   "id": "fa9d66a5",
   "metadata": {},
   "outputs": [],
   "source": [
    "They contain references to list values."
   ]
  },
  {
   "cell_type": "markdown",
   "id": "20d88071",
   "metadata": {},
   "source": [
    "# How do you distinguish between copy.copy() and copy.deepcopy()?"
   ]
  },
  {
   "cell_type": "code",
   "execution_count": null,
   "id": "373d5b1d",
   "metadata": {},
   "outputs": [],
   "source": [
    "copy.copy()- it creates reference to original objects. \n",
    "copy.deepcopy()- it creates new object and does real copying of original object to new one."
   ]
  }
 ],
 "metadata": {
  "kernelspec": {
   "display_name": "Python 3 (ipykernel)",
   "language": "python",
   "name": "python3"
  },
  "language_info": {
   "codemirror_mode": {
    "name": "ipython",
    "version": 3
   },
   "file_extension": ".py",
   "mimetype": "text/x-python",
   "name": "python",
   "nbconvert_exporter": "python",
   "pygments_lexer": "ipython3",
   "version": "3.9.12"
  }
 },
 "nbformat": 4,
 "nbformat_minor": 5
}
