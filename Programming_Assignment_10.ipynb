{
 "cells": [
  {
   "cell_type": "code",
   "execution_count": 2,
   "id": "949266c5",
   "metadata": {},
   "outputs": [
    {
     "name": "stdout",
     "output_type": "stream",
     "text": [
      "[15, 45, 42, 5]\n",
      "sum of list:  107\n"
     ]
    }
   ],
   "source": [
    "#Write a Python program to find sum of elements in list?\n",
    "def sumlist(list):\n",
    "    sum=0\n",
    "    for i in range(len(list)):\n",
    "        sum = sum+list[i]\n",
    "    return sum\n",
    "list = [15,45,42,5]\n",
    "print(list)\n",
    "print(\"sum of list: \",sumlist(list))"
   ]
  },
  {
   "cell_type": "code",
   "execution_count": 3,
   "id": "aae98e2b",
   "metadata": {},
   "outputs": [
    {
     "name": "stdout",
     "output_type": "stream",
     "text": [
      "1716\n",
      "4004\n"
     ]
    }
   ],
   "source": [
    "#Write a Python program to Multiply all numbers in the list?\n",
    "from functools import reduce\n",
    "list1 = [11, 12, 13]\n",
    "list2 = [13, 22, 14]\n",
    " \n",
    " \n",
    "result1 = reduce((lambda x, y: x * y), list1)\n",
    "result2 = reduce((lambda x, y: x * y), list2)\n",
    "print(result1)\n",
    "print(result2)"
   ]
  },
  {
   "cell_type": "code",
   "execution_count": 5,
   "id": "9a9f2385",
   "metadata": {},
   "outputs": [
    {
     "name": "stdout",
     "output_type": "stream",
     "text": [
      "Smallest element is: 4\n"
     ]
    }
   ],
   "source": [
    "#Write a Python program to find smallest number in a list?\n",
    "list = [10, 20, 4, 45, 99]\n",
    "list.sort()\n",
    "print(\"Smallest element is:\", list[0])"
   ]
  },
  {
   "cell_type": "code",
   "execution_count": null,
   "id": "ede81575",
   "metadata": {},
   "outputs": [],
   "source": [
    "#Write a Python program to find largest number in a list?\n",
    "5. Write a Python program to find second largest number in a list?\n",
    "6. Write a Python program to find N largest elements from a list?\n",
    "7. Write a Python program to print even numbers in a list?\n",
    "8. Write a Python program to print odd numbers in a List?\n",
    "9. Write a Python program to Remove empty List from List?\n",
    "10. Write a Python program to Cloning or Copying a list?\n",
    "11. Write a Python program to Count occurrences of an element in a list?"
   ]
  },
  {
   "cell_type": "code",
   "execution_count": 10,
   "id": "4aabeac9",
   "metadata": {},
   "outputs": [
    {
     "name": "stdout",
     "output_type": "stream",
     "text": [
      "Largest number is: 25\n"
     ]
    }
   ],
   "source": [
    "#Write a Python program to find largest number in a list?\n",
    "list = [10,25,3,15,12]\n",
    "list.sort()\n",
    "print(\"Largest number is:\",list[-1])"
   ]
  },
  {
   "cell_type": "code",
   "execution_count": 12,
   "id": "aef04712",
   "metadata": {},
   "outputs": [
    {
     "name": "stdout",
     "output_type": "stream",
     "text": [
      "Largest number is: 45\n"
     ]
    }
   ],
   "source": [
    "#Write a Python program to find second largest number in a list?\n",
    "list = [11,25,45,66,42]\n",
    "list.sort()\n",
    "print(\"Largest number is:\",list[-2])"
   ]
  },
  {
   "cell_type": "code",
   "execution_count": 15,
   "id": "9bb32131",
   "metadata": {},
   "outputs": [
    {
     "name": "stdout",
     "output_type": "stream",
     "text": [
      "[46, 55]\n"
     ]
    }
   ],
   "source": [
    "# Write a Python program to find N largest elements from a list?\n",
    "l = [10,55,46,25,23]\n",
    "n = 2\n",
    " \n",
    "l.sort()\n",
    "print(l[-n:])"
   ]
  },
  {
   "cell_type": "code",
   "execution_count": 16,
   "id": "679a1b3a",
   "metadata": {},
   "outputs": [
    {
     "name": "stdout",
     "output_type": "stream",
     "text": [
      "10 "
     ]
    }
   ],
   "source": [
    "#Write a Python program to print even numbers in a list?\n",
    "list1 = [10, 25,45,23]\n",
    "for num in list1:\n",
    "    if num % 2 == 0:\n",
    "        print(num, end=\" \")"
   ]
  },
  {
   "cell_type": "code",
   "execution_count": 17,
   "id": "f777377a",
   "metadata": {},
   "outputs": [
    {
     "name": "stdout",
     "output_type": "stream",
     "text": [
      "25 45 23 "
     ]
    }
   ],
   "source": [
    "#rite a Python program to print odd numbers in a List?\n",
    "list1 = [10, 25,45,23]\n",
    "for num in list1:\n",
    "    if num % 2 != 0:\n",
    "        print(num, end=\" \")"
   ]
  },
  {
   "cell_type": "code",
   "execution_count": 25,
   "id": "01ff8525",
   "metadata": {},
   "outputs": [
    {
     "name": "stdout",
     "output_type": "stream",
     "text": [
      "[5, 6, 3, 9]\n"
     ]
    }
   ],
   "source": [
    "#Write a Python program to Remove empty List from List?\n",
    "\n",
    "list = [5, 6, [], 3, [], [], 9]\n",
    "res = [ele for i,ele in enumerate(list) if ele != []]\n",
    "print(res)"
   ]
  },
  {
   "cell_type": "code",
   "execution_count": 27,
   "id": "ceea2faa",
   "metadata": {},
   "outputs": [
    {
     "name": "stdout",
     "output_type": "stream",
     "text": [
      "Original List: [4, 5, 6, 7, 8]\n",
      "After Cloning: [4, 5, 6, 7, 8]\n"
     ]
    }
   ],
   "source": [
    "# Write a Python program to Cloning or Copying a list?\n",
    "def Cloning(li1):\n",
    "    li_copy = li1\n",
    "    return li_copy\n",
    "\n",
    "li1 = [4,5,6,7,8]\n",
    "li2 = Cloning(li1)\n",
    "print(\"Original List:\", li1)\n",
    "print(\"After Cloning:\", li2)"
   ]
  },
  {
   "cell_type": "code",
   "execution_count": 30,
   "id": "58a02dab",
   "metadata": {},
   "outputs": [
    {
     "name": "stdout",
     "output_type": "stream",
     "text": [
      "5 has occurred 3 times\n"
     ]
    }
   ],
   "source": [
    "#Write a Python program to Count occurrences of an element in a list?\n",
    "def countX(lst, x):\n",
    "    count = 0\n",
    "    for ele in lst:\n",
    "        if (ele == x):\n",
    "            count = count + 1\n",
    "    return count\n",
    "lst = [2, 6, 5, 14, 4, 20, 10, 5, 5]\n",
    "x = 5\n",
    "print('{} has occurred {} times'.format(x, countX(lst, x)))"
   ]
  }
 ],
 "metadata": {
  "kernelspec": {
   "display_name": "Python 3 (ipykernel)",
   "language": "python",
   "name": "python3"
  },
  "language_info": {
   "codemirror_mode": {
    "name": "ipython",
    "version": 3
   },
   "file_extension": ".py",
   "mimetype": "text/x-python",
   "name": "python",
   "nbconvert_exporter": "python",
   "pygments_lexer": "ipython3",
   "version": "3.9.12"
  }
 },
 "nbformat": 4,
 "nbformat_minor": 5
}
