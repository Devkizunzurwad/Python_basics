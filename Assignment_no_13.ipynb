{
 "cells": [
  {
   "cell_type": "code",
   "execution_count": null,
   "id": "61beb27e",
   "metadata": {},
   "outputs": [],
   "source": [
    "# What advantages do Excel spreadsheets have over CSV spreadsheets?\n",
    "\n",
    "Excel is more superior when compared with the CSV file format; thus, CSV consumes less amount of file\n",
    "size when the user is importing data; it is a much faster format compared to excel. CSV does not manipulate data \n",
    "and stores it as-is. Excel also allows the user the add-in feature."
   ]
  },
  {
   "cell_type": "code",
   "execution_count": null,
   "id": "3fc126c7",
   "metadata": {},
   "outputs": [],
   "source": [
    "# What do you pass to csv.reader() and csv.writer() to create reader and writer objects?\n",
    "\n",
    "Before you read, write, or manipulate the file, you need to make use of the module open(filename, access_mode) that returns\n",
    "a file object called \"handle\". After which you can simply use this handle to read from or write to a file."
   ]
  },
  {
   "cell_type": "code",
   "execution_count": null,
   "id": "f3c3f270",
   "metadata": {},
   "outputs": [],
   "source": [
    "# What modes do File objects for reader and writer objects need to be opened in?\n",
    "\n",
    "Before you read, write, or manipulate the file, you need to make use of the module open(filename, access_mode)\n",
    "that returns a file object called \"handle\". After which you can simply use this handle to read from or write to a file."
   ]
  },
  {
   "cell_type": "code",
   "execution_count": null,
   "id": "9b411a3b",
   "metadata": {},
   "outputs": [],
   "source": [
    "# What method takes a list argument and writes it to a CSV file?\n",
    "\n",
    "A CSV file is a bounded text format which uses a comma to separate values. The most common method to write data from a\n",
    "list to CSV file is the writerow() method of writer and DictWriter class."
   ]
  },
  {
   "cell_type": "code",
   "execution_count": null,
   "id": "096e59a9",
   "metadata": {},
   "outputs": [],
   "source": [
    "# What do the keyword arguments delimiter and line terminator do?\n",
    "\n",
    "The delimiter is the character that appears between cells on a row."
   ]
  },
  {
   "cell_type": "code",
   "execution_count": null,
   "id": "54b68589",
   "metadata": {},
   "outputs": [],
   "source": [
    "# What function takes a string of JSON data and returns a Python data structure?\n",
    "\n",
    "loads() method return Python data structure of JSON string or data."
   ]
  },
  {
   "cell_type": "code",
   "execution_count": null,
   "id": "f3bdbfb5",
   "metadata": {},
   "outputs": [],
   "source": [
    "# What function takes a Python data structure and returns a string of JSON data?\n",
    "If you have a Python object, you can convert it into a JSON string by using the json.dumps() method."
   ]
  }
 ],
 "metadata": {
  "kernelspec": {
   "display_name": "Python 3 (ipykernel)",
   "language": "python",
   "name": "python3"
  },
  "language_info": {
   "codemirror_mode": {
    "name": "ipython",
    "version": 3
   },
   "file_extension": ".py",
   "mimetype": "text/x-python",
   "name": "python",
   "nbconvert_exporter": "python",
   "pygments_lexer": "ipython3",
   "version": "3.9.12"
  }
 },
 "nbformat": 4,
 "nbformat_minor": 5
}
