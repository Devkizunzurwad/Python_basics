{
 "cells": [
  {
   "cell_type": "code",
   "execution_count": 2,
   "id": "ec60bc23",
   "metadata": {},
   "outputs": [
    {
     "name": "stdout",
     "output_type": "stream",
     "text": [
      "Largest element present in given array: 75\n"
     ]
    }
   ],
   "source": [
    "# Write a Python Program to find largest element in an array?  \n",
    "arr = [26,58,45,63,75];     \n",
    "max = arr[0];    \n",
    "      \n",
    "for i in range(0, len(arr)):    \n",
    "    \n",
    "   if(arr[i] > max):    \n",
    "       max = arr[i];    \n",
    "           \n",
    "print(\"Largest element present in given array: \" + str(max));   "
   ]
  },
  {
   "cell_type": "code",
   "execution_count": null,
   "id": "ee48317f",
   "metadata": {},
   "outputs": [],
   "source": [
    "#Write a Python Program to find sum of array?\n",
    "arr = []\n",
    "arr = [12, 3, 4, 15]\n",
    "ans = sum(arr)\n",
    "print('Sum of the array is ', ans)"
   ]
  },
  {
   "cell_type": "code",
   "execution_count": 9,
   "id": "4c75a396",
   "metadata": {},
   "outputs": [
    {
     "name": "stdout",
     "output_type": "stream",
     "text": [
      "Array after left rotation is:  [3, 4, 5, 6, 7, 1, 2]\n"
     ]
    }
   ],
   "source": [
    "#Write a Python Program for array rotation?,\n",
    "  \n",
    "def rotateArray(a,d):\n",
    "    temp = []\n",
    "    n=len(a)\n",
    "    for i in range(d,n):\n",
    "        temp.append(a[i])\n",
    "    i = 0\n",
    "    for i in range (0,d):\n",
    "        temp.append(a[i])\n",
    "    a=temp.copy()\n",
    "    return a\n",
    " \n",
    "arr = [1, 2, 3, 4, 5, 6, 7]\n",
    "print(\"Array after left rotation is: \", end=' ')\n",
    "print(rotateArray(arr, 2))"
   ]
  },
  {
   "cell_type": "code",
   "execution_count": 12,
   "id": "5d62bce4",
   "metadata": {},
   "outputs": [
    {
     "name": "stdout",
     "output_type": "stream",
     "text": [
      "15 16 50 36 15 40 "
     ]
    }
   ],
   "source": [
    "#Write a Python Program to Split the array and add the first part to the end?\n",
    "def SplitArray(arr, n, k):\n",
    "    for i in range(0, k):\n",
    "        x = arr[0]\n",
    "        for j in range(0, n-1):\n",
    "            arr[j] = arr[j + 1]\n",
    "\n",
    "        arr[n-1] = x\n",
    "arr = [15, 40, 15, 16, 50, 36]\n",
    "n = len(arr)\n",
    "position = 2\n",
    "SplitArray(arr, n, position)\n",
    "for i in range(0, n):\n",
    "\tprint(arr[i], end = ' ')"
   ]
  },
  {
   "cell_type": "code",
   "execution_count": 13,
   "id": "c7e33c3f",
   "metadata": {},
   "outputs": [
    {
     "name": "stdout",
     "output_type": "stream",
     "text": [
      "True\n",
      "False\n",
      "True\n",
      "True\n"
     ]
    }
   ],
   "source": [
    "#Write a Python Program to check if given array is Monotonic?\n",
    "\n",
    "def ismonotone(a):\n",
    "    n=len(a) #size of array\n",
    "    if n==1:\n",
    "        return True\n",
    "    else:\n",
    "        #check for monotone behaviour\n",
    "        if all(a[i]>=a[i+1] for i in range(0,n-1) or a[i]<=a[i+1] for i in range(0,n-1)):\n",
    "            return True\n",
    "        else:\n",
    "            return False\n",
    "\n",
    "A = [6, 5, 4, 2]\n",
    "print(ismonotone(A))\n",
    "b = [6, 2, 4, 2]\n",
    "print(ismonotone(b))\n",
    "c=[4,3,2]\n",
    "print(ismonotone(c))\n",
    "d=[1]\n",
    "print(ismonotone(d))"
   ]
  },
  {
   "cell_type": "code",
   "execution_count": null,
   "id": "624aef25",
   "metadata": {},
   "outputs": [],
   "source": []
  }
 ],
 "metadata": {
  "kernelspec": {
   "display_name": "Python 3 (ipykernel)",
   "language": "python",
   "name": "python3"
  },
  "language_info": {
   "codemirror_mode": {
    "name": "ipython",
    "version": 3
   },
   "file_extension": ".py",
   "mimetype": "text/x-python",
   "name": "python",
   "nbconvert_exporter": "python",
   "pygments_lexer": "ipython3",
   "version": "3.9.12"
  }
 },
 "nbformat": 4,
 "nbformat_minor": 5
}
