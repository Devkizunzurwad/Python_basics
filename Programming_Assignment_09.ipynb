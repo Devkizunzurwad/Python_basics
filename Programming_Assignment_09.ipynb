{
 "cells": [
  {
   "cell_type": "code",
   "execution_count": 5,
   "id": "fb8006eb",
   "metadata": {},
   "outputs": [
    {
     "name": "stdout",
     "output_type": "stream",
     "text": [
      "\n",
      "Is 25 is Disarium number? False\n",
      "\n",
      "Is 36 is Disarium number? False\n",
      "\n",
      "Is 89 is Disarium number? True\n"
     ]
    }
   ],
   "source": [
    "#Write a Python program to check if the given number is a Disarium Number?\n",
    "def is_disarium(num):\n",
    "    temp = 0\n",
    "    for i in range(len(str(num))):\n",
    "        temp += int(str(num)[i]) ** (i + 1)\n",
    "    return temp == num\n",
    "\n",
    "num = 25\n",
    "print(\"\\nIs\",num,\"is Disarium number?\",is_disarium(num))\n",
    "num = 36\n",
    "print(\"\\nIs\",num,\"is Disarium number?\",is_disarium(num))\n",
    "num = 89\n",
    "print(\"\\nIs\",num,\"is Disarium number?\",is_disarium(num))"
   ]
  },
  {
   "cell_type": "code",
   "execution_count": 7,
   "id": "8d84a298",
   "metadata": {},
   "outputs": [
    {
     "name": "stdout",
     "output_type": "stream",
     "text": [
      "The disarium numbers between 1 and 100 are : \n",
      "1\n",
      "2\n",
      "3\n",
      "4\n",
      "5\n",
      "6\n",
      "7\n",
      "8\n",
      "9\n",
      "89\n"
     ]
    }
   ],
   "source": [
    "#Write a Python program to print all disarium numbers between 1 to 100?\n",
    "\n",
    "def length_calculation(my_val):\n",
    "   len_val = 0\n",
    "   while(my_val != 0):\n",
    "      len_val = len_val + 1\n",
    "      my_val = my_val//10\n",
    "   return len_val\n",
    "def digit_sum(my_num):\n",
    "   remaining = sum_val = 0\n",
    "   len_fun = length_calculation(my_num)\n",
    "   while(my_num > 0):\n",
    "      remaining = my_num%10\n",
    "      sum_val = sum_val + (remaining**len_fun)\n",
    "      my_num = my_num//10\n",
    "      len_fun = len_fun - 1\n",
    "   return sum_val\n",
    "ini_result = 0\n",
    "print(\"The disarium numbers between 1 and 100 are : \")\n",
    "for i in range(1, 101):\n",
    "   ini_result = digit_sum(i)\n",
    "   if(ini_result == i):\n",
    "      print(i)"
   ]
  },
  {
   "cell_type": "code",
   "execution_count": 8,
   "id": "991455c2",
   "metadata": {},
   "outputs": [
    {
     "name": "stdout",
     "output_type": "stream",
     "text": [
      "The list of happy numbers between 1 and 100 are : \n",
      "1\n",
      "7\n",
      "10\n",
      "13\n",
      "19\n",
      "23\n",
      "28\n",
      "31\n",
      "32\n",
      "44\n",
      "49\n",
      "68\n",
      "70\n",
      "79\n",
      "82\n",
      "86\n",
      "91\n",
      "94\n",
      "97\n",
      "100\n"
     ]
    }
   ],
   "source": [
    "#Write a Python program to print all happy numbers between 1 and 100?\n",
    "def check_happy_num(my_num):\n",
    "   remaining = sum_val = 0\n",
    "   while(my_num > 0):\n",
    "      remaining = my_num%10\n",
    "      sum_val = sum_val + (remaining*remaining)\n",
    "      my_num = my_num//10\n",
    "   return sum_val\n",
    "print(\"The list of happy numbers between 1 and 100 are : \")\n",
    "for i in range(1, 101):\n",
    "   my_result = i\n",
    "   while(my_result != 1 and my_result != 4):\n",
    "      my_result = check_happy_num(my_result)\n",
    "   if(my_result == 1):\n",
    "      print(i)"
   ]
  },
  {
   "cell_type": "code",
   "execution_count": 16,
   "id": "ce5472d0",
   "metadata": {},
   "outputs": [
    {
     "name": "stdout",
     "output_type": "stream",
     "text": [
      "False\n",
      "False\n",
      "True\n"
     ]
    }
   ],
   "source": [
    "#Write a Python program to check if the given number is Happy Number?\n",
    "def is_Happy_num(n):\n",
    "  past = set()\n",
    "  while n != 1:\n",
    "        n = sum(int(i)**2 for i in str(n))\n",
    "        if n in past:\n",
    "            return False\n",
    "        past.add(n)\n",
    "  return True\n",
    "print(is_Happy_num(15))\n",
    "print(is_Happy_num(9))\n",
    "print(is_Happy_num(7))"
   ]
  },
  {
   "cell_type": "code",
   "execution_count": 19,
   "id": "c6b124d3",
   "metadata": {},
   "outputs": [
    {
     "name": "stdout",
     "output_type": "stream",
     "text": [
      "Enter a number4555\n",
      "4555 is not a harshad number\n"
     ]
    }
   ],
   "source": [
    "#Write a Python program to determine whether the given number is a Harshad Number?\n",
    "num= int(input(\"Enter a number\"));    \n",
    "rem = sum = 0;    \n",
    "     \n",
    "n = num;    \n",
    "  \n",
    "while(num > 0):    \n",
    "    rem = num%10;    \n",
    "    sum = sum + rem;    \n",
    "    num = num//10;    \n",
    "  \n",
    "if(n%sum == 0):    \n",
    "    print(str(n) + \" is a harshad number\");    \n",
    "else:    \n",
    "    print(str(n) + \" is not a harshad number\");    "
   ]
  },
  {
   "cell_type": "code",
   "execution_count": 20,
   "id": "7282abdd",
   "metadata": {},
   "outputs": [
    {
     "name": "stdout",
     "output_type": "stream",
     "text": [
      "Pronic numbers between 1 and 100: \n",
      "2\n",
      " \n",
      "6\n",
      " \n",
      "12\n",
      " \n",
      "20\n",
      " \n",
      "30\n",
      " \n",
      "42\n",
      " \n",
      "56\n",
      " \n",
      "72\n",
      " \n",
      "90\n",
      " \n"
     ]
    }
   ],
   "source": [
    "#Write a Python program to print all pronic numbers between 1 and 100?\n",
    "def isPronicNumber(num):    \n",
    "    flag = False;    \n",
    "        \n",
    "    for j in range(1, num+1):      \n",
    "        if((j*(j+1)) == num):    \n",
    "            flag = True;    \n",
    "            break;    \n",
    "    return flag;    \n",
    "    \n",
    "print(\"Pronic numbers between 1 and 100: \");    \n",
    "for i in range(1, 101):    \n",
    "    if(isPronicNumber(i)):    \n",
    "        print(i),    \n",
    "        print(\" \"),    "
   ]
  },
  {
   "cell_type": "code",
   "execution_count": null,
   "id": "05b9d660",
   "metadata": {},
   "outputs": [],
   "source": []
  }
 ],
 "metadata": {
  "kernelspec": {
   "display_name": "Python 3 (ipykernel)",
   "language": "python",
   "name": "python3"
  },
  "language_info": {
   "codemirror_mode": {
    "name": "ipython",
    "version": 3
   },
   "file_extension": ".py",
   "mimetype": "text/x-python",
   "name": "python",
   "nbconvert_exporter": "python",
   "pygments_lexer": "ipython3",
   "version": "3.9.12"
  }
 },
 "nbformat": 4,
 "nbformat_minor": 5
}
