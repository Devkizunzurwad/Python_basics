{
 "cells": [
  {
   "cell_type": "markdown",
   "id": "e6b3d0d0",
   "metadata": {},
   "source": [
    "# In the below elements which of them are values or an expression? eg:- values can be integer or string and expressions will be mathematical operators.\n",
    "\n",
    "*  ----------- Expression\n",
    "\n",
    "'hello  ------ Value\n",
    "\n",
    "-87.8  ------- Value\n",
    "\n",
    "-  ----------- Expression\n",
    "\n",
    "/  ----------- Expression\n",
    "\n",
    "+  ----------- Expression\n",
    "\n",
    "6   ---------- Value"
   ]
  },
  {
   "cell_type": "code",
   "execution_count": null,
   "id": "d1ebc4ec",
   "metadata": {},
   "outputs": [],
   "source": []
  },
  {
   "cell_type": "markdown",
   "id": "71a7bd48",
   "metadata": {},
   "source": [
    "# What is the difference between string and variable?"
   ]
  },
  {
   "cell_type": "code",
   "execution_count": null,
   "id": "1b6ac342",
   "metadata": {},
   "outputs": [],
   "source": [
    "A Variable is a store of information, and a String is a type of information you would store in a Variable. "
   ]
  },
  {
   "cell_type": "code",
   "execution_count": null,
   "id": "8405bb67",
   "metadata": {},
   "outputs": [],
   "source": []
  },
  {
   "cell_type": "markdown",
   "id": "b02bc6e7",
   "metadata": {},
   "source": [
    "# Describe three different data types."
   ]
  },
  {
   "cell_type": "code",
   "execution_count": null,
   "id": "6cf35131",
   "metadata": {},
   "outputs": [],
   "source": [
    " Data types:\n",
    "        \n",
    "        Boolean          -----   Representing logical values    -----   TRUE, FALSE\n",
    "        \n",
    "        Integer          -----   Numbers                        -----   2,3,4,25\n",
    "        \n",
    "        Floating Point   -----   Numbers with a decimal point   -----   45.25, 26.25, 63.89\n",
    "        "
   ]
  },
  {
   "cell_type": "code",
   "execution_count": null,
   "id": "2476349d",
   "metadata": {},
   "outputs": [],
   "source": []
  },
  {
   "cell_type": "markdown",
   "id": "b95bd525",
   "metadata": {},
   "source": [
    "# After running the following code, what does the variable bacon contain?\n",
    "\n",
    "bacon = 22   \n",
    "bacon + 1\n",
    "\n",
    "It gives 23 as execution code "
   ]
  },
  {
   "cell_type": "code",
   "execution_count": 1,
   "id": "d66f35fd",
   "metadata": {},
   "outputs": [],
   "source": []
  },
  {
   "cell_type": "markdown",
   "id": "040f77c2",
   "metadata": {},
   "source": [
    "# What should the values of the following two terms be?\n",
    "'spam' + 'spamspam'\n",
    "'spam' * 3"
   ]
  },
  {
   "cell_type": "code",
   "execution_count": null,
   "id": "d18bc358",
   "metadata": {},
   "outputs": [],
   "source": [
    "o/p = 'spamspamspam'"
   ]
  },
  {
   "cell_type": "code",
   "execution_count": null,
   "id": "b6e73719",
   "metadata": {},
   "outputs": [],
   "source": []
  },
  {
   "cell_type": "markdown",
   "id": "b3314f12",
   "metadata": {},
   "source": [
    "# Why is eggs a valid variable name while 100 is invalid?"
   ]
  },
  {
   "cell_type": "code",
   "execution_count": null,
   "id": "36c0ed69",
   "metadata": {},
   "outputs": [],
   "source": [
    "Eggs is a valid variable and 100 is not valid because variable cannot start with the number."
   ]
  },
  {
   "cell_type": "code",
   "execution_count": null,
   "id": "049bb69e",
   "metadata": {},
   "outputs": [],
   "source": []
  },
  {
   "cell_type": "markdown",
   "id": "55277f5b",
   "metadata": {},
   "source": [
    "# What three functions can be used to get the integer, floating-point number, or string version of a value?"
   ]
  },
  {
   "cell_type": "code",
   "execution_count": null,
   "id": "aec37646",
   "metadata": {},
   "outputs": [],
   "source": [
    "Integer -----  int()\n",
    "\n",
    "Floating-Point number ----- float()\n",
    "\n",
    "String  ------ str()"
   ]
  },
  {
   "cell_type": "code",
   "execution_count": null,
   "id": "4eb89edf",
   "metadata": {},
   "outputs": [],
   "source": []
  },
  {
   "cell_type": "markdown",
   "id": "7c0bbe86",
   "metadata": {},
   "source": [
    "# Why does this expression cause an error? How can you fix it?\n",
    "'I have eaten' + 99 + 'burritos'."
   ]
  },
  {
   "cell_type": "code",
   "execution_count": null,
   "id": "29be7f66",
   "metadata": {},
   "outputs": [],
   "source": [
    "can only concatenate str (not \"int\") to str "
   ]
  }
 ],
 "metadata": {
  "kernelspec": {
   "display_name": "Python 3 (ipykernel)",
   "language": "python",
   "name": "python3"
  },
  "language_info": {
   "codemirror_mode": {
    "name": "ipython",
    "version": 3
   },
   "file_extension": ".py",
   "mimetype": "text/x-python",
   "name": "python",
   "nbconvert_exporter": "python",
   "pygments_lexer": "ipython3",
   "version": "3.9.12"
  }
 },
 "nbformat": 4,
 "nbformat_minor": 5
}
