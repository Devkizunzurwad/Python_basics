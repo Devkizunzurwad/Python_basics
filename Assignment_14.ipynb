{
 "cells": [
  {
   "cell_type": "code",
   "execution_count": null,
   "id": "2be7087b",
   "metadata": {},
   "outputs": [],
   "source": [
    "1. What does RGBA stand for?\n",
    "An RGBA value is a group of numbers that specify the amount of red, green, blue, and alpha (or transparency) in a color."
   ]
  },
  {
   "cell_type": "code",
   "execution_count": null,
   "id": "3ccdd712",
   "metadata": {},
   "outputs": [],
   "source": [
    "2. From the Pillow module, how do you get the RGBA value of any images?\n",
    "  1.  import the Image module from the Pillow library from PIL import Image.\n",
    "  2.  Open any image and get the RAGBAG values. img = Image.open('image.png') rgba = img.convert(“RGBA”) ...\n",
    "  3.  Change the color. Data will be an Imaging Core object containing thousands of tuples of RGBA values. ...\n",
    "  4.  Store the changed image."
   ]
  },
  {
   "cell_type": "code",
   "execution_count": null,
   "id": "1e8a177c",
   "metadata": {},
   "outputs": [],
   "source": [
    "3. What is a box tuple, and how does it work?\n",
    "The box. tuple submodule provides read-only access for the tuple userdata type. It allows, for a single tuple: selective\n",
    "retrieval of the field contents, retrieval of information about size, iteration over all the fields, and conversion to a\n",
    "Lua table. Below is a list of all box."
   ]
  },
  {
   "cell_type": "code",
   "execution_count": null,
   "id": "734ea982",
   "metadata": {},
   "outputs": [],
   "source": [
    "4. How can you find out the width and height of an\n",
    "Image object?\n",
    "from PIL import Image\n",
    "  \n",
    "# get image\n",
    "filepath = \"geeksforgeeks.png\"\n",
    "img = Image.open(filepath)\n",
    "  \n",
    "# get width and height\n",
    "width = img.width\n",
    "height = img.height\n",
    "  \n",
    "# display width and height\n",
    "print(\"The height of the image is: \", height)\n",
    "print(\"The width of the image is: \", width)"
   ]
  },
  {
   "cell_type": "code",
   "execution_count": null,
   "id": "2ef30dd5",
   "metadata": {},
   "outputs": [],
   "source": [
    "7. What module contains Pillow’s shape-drawing code?\n",
    "The 'ImageDraw' module provides simple 2D graphics support for Image Object. Generally, we use this module to create new images,\n",
    "annotate or retouch existing images and to generate graphics on the fly for web use."
   ]
  }
 ],
 "metadata": {
  "kernelspec": {
   "display_name": "Python 3 (ipykernel)",
   "language": "python",
   "name": "python3"
  },
  "language_info": {
   "codemirror_mode": {
    "name": "ipython",
    "version": 3
   },
   "file_extension": ".py",
   "mimetype": "text/x-python",
   "name": "python",
   "nbconvert_exporter": "python",
   "pygments_lexer": "ipython3",
   "version": "3.9.12"
  }
 },
 "nbformat": 4,
 "nbformat_minor": 5
}
