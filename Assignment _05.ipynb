{
 "cells": [
  {
   "cell_type": "code",
   "execution_count": null,
   "id": "7df87858",
   "metadata": {},
   "outputs": [],
   "source": [
    "#What does an empty dictionarys code look like?\n",
    "\n",
    "In python to create an empty dictionary we does not assign any value in curly brackets. and the empty dictionary code look \n",
    "like as dict{}."
   ]
  },
  {
   "cell_type": "code",
   "execution_count": null,
   "id": "91ebc4ae",
   "metadata": {},
   "outputs": [],
   "source": [
    "#What is the value of a dictionary value with the key 'foo' and the value 42?\n",
    "\n",
    "dict{'foo':42}"
   ]
  },
  {
   "cell_type": "code",
   "execution_count": null,
   "id": "ec19821d",
   "metadata": {},
   "outputs": [],
   "source": [
    "#What is the most significant distinction between a dictionary and a list?\n",
    "\n",
    "Items stored in dictionary are unordered and the other items stored in a list are ordered."
   ]
  },
  {
   "cell_type": "code",
   "execution_count": 4,
   "id": "2bd4f0fc",
   "metadata": {},
   "outputs": [],
   "source": [
    "# happens if you try to access spam['foo'] if spam is {'bar': 100}\n",
    "\n",
    "we will get an key value error"
   ]
  },
  {
   "cell_type": "code",
   "execution_count": null,
   "id": "8f0b9221",
   "metadata": {},
   "outputs": [],
   "source": [
    "# If a dictionary is stored in spam, what is the difference between the expressions 'cat' in spam and\n",
    "'cat' in spam.keys()?\n",
    "\n",
    "There is no difference, the in operator checks whether the value exits as a key in a dictionary."
   ]
  },
  {
   "cell_type": "code",
   "execution_count": null,
   "id": "35fcb2c0",
   "metadata": {},
   "outputs": [],
   "source": [
    "# If a dictionary is stored in spam, what is the difference between the expressions 'cat' in spam and\n",
    "'cat' in spam.values()?\n",
    "\n",
    "The 'cat' in spam operator checks whether the value 'cat' exist as a key in a dictionary.\n",
    "and 'cat' in spam.values() checks whether there is a value 'cat' for one of the keys in spam."
   ]
  },
  {
   "cell_type": "code",
   "execution_count": null,
   "id": "06cb2230",
   "metadata": {},
   "outputs": [],
   "source": [
    "#What is a shortcut for the following code?\n",
    "#if 'color' not in spam:\n",
    "#spam['color'] = 'black';\n",
    "\n",
    "spam.setdefault('color','black')"
   ]
  },
  {
   "cell_type": "code",
   "execution_count": null,
   "id": "b29bced8",
   "metadata": {},
   "outputs": [],
   "source": [
    "# How do you \"pretty print\" dictionary values using which module and function?\n",
    "\n",
    "pprint.pprint()"
   ]
  }
 ],
 "metadata": {
  "kernelspec": {
   "display_name": "Python 3 (ipykernel)",
   "language": "python",
   "name": "python3"
  },
  "language_info": {
   "codemirror_mode": {
    "name": "ipython",
    "version": 3
   },
   "file_extension": ".py",
   "mimetype": "text/x-python",
   "name": "python",
   "nbconvert_exporter": "python",
   "pygments_lexer": "ipython3",
   "version": "3.9.12"
  }
 },
 "nbformat": 4,
 "nbformat_minor": 5
}
