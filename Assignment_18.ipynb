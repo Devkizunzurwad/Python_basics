{
 "cells": [
  {
   "cell_type": "code",
   "execution_count": null,
   "id": "0543eeb7",
   "metadata": {},
   "outputs": [],
   "source": [
    "# Create a zoo.py file first. Define the hours() function, which prints the string 'Open 9-5 daily'.\n",
    "\n",
    "from google.colab import files\n",
    "uploaded = files.upload()\n",
    "Upload widget is only available when the cell has been executed in the current browser session. Please rerun this cell to\n",
    "enable.\n",
    "Saving zoo.py to zoo.py\n",
    "import zoo\n",
    "from importlib import reload\n",
    "reload(zoo)\n",
    "\n",
    "zoo.hours()\n",
    "Open 9-5 daily"
   ]
  },
  {
   "cell_type": "code",
   "execution_count": null,
   "id": "f8475f32",
   "metadata": {},
   "outputs": [],
   "source": [
    "#  Using the interpreter, explicitly import and call the hours() function from zoo\n",
    "import zoo as menagerie\n",
    "menagerie.hours()\n",
    "Open 9-5 daily\n"
   ]
  },
  {
   "cell_type": "code",
   "execution_count": null,
   "id": "09e19437",
   "metadata": {},
   "outputs": [],
   "source": [
    "# In the interactive interpreter, import the zoo module as menagerie and call its hours() function.\n",
    "import zoo as menagerie\n",
    "menagerie.hours()\n",
    "Open 9-5 daily"
   ]
  },
  {
   "cell_type": "code",
   "execution_count": null,
   "id": "18fda95f",
   "metadata": {},
   "outputs": [],
   "source": [
    "# Using the interpreter, explicitly import and call the hours() function from zoo.\n",
    "\n",
    "from zoo import hours\n",
    "hours()\n",
    "Open 9-5 daily"
   ]
  },
  {
   "cell_type": "code",
   "execution_count": null,
   "id": "f67f0386",
   "metadata": {},
   "outputs": [],
   "source": [
    "#Import the hours() function as info and call it from zoo import hours as info\n",
    "info()\n",
    "Open 9-5 daily"
   ]
  },
  {
   "cell_type": "code",
   "execution_count": null,
   "id": "98fd8d82",
   "metadata": {},
   "outputs": [],
   "source": [
    "# Create a plain dictionary with the key-value pairs 'a': 1, 'b': 2, 'c': 3, and print it out.\n",
    "\n",
    "plain = {'a': 1, 'b': 2, 'c': 3}\n",
    "plain\n",
    "{'a': 1, 'b': 2, 'c': 3}"
   ]
  },
  {
   "cell_type": "code",
   "execution_count": null,
   "id": "b3790ca0",
   "metadata": {},
   "outputs": [],
   "source": [
    "# Make an OrderedDict called fancy from the same pairs listed in 5 and print it. Did it print in the same order as plain? \n",
    "#Yes\n",
    "from collections import OrderedDict\n",
    "fancy = OrderedDict([('a', 1), ('b', 2), ('c', 3)])\n",
    "fancy\n",
    "OrderedDict([('a', 1), ('b', 2), ('c', 3)])\n"
   ]
  },
  {
   "cell_type": "code",
   "execution_count": null,
   "id": "cad8561e",
   "metadata": {},
   "outputs": [],
   "source": [
    "# Make a defaultdict called dict_of_lists and pass it the argument list. Make the list dict_of_lists['a'] \n",
    "# and append the value 'something for a' to it in one assignment. Print dict_of_lists['a']\n",
    "\n",
    "from collections import defaultdict\n",
    "dict_of_lists = defaultdict(list)\n",
    "dict_of_lists['a'].append('something for a')\n",
    "dict_of_lists['a']\n",
    "['something for a']\n"
   ]
  }
 ],
 "metadata": {
  "kernelspec": {
   "display_name": "Python 3 (ipykernel)",
   "language": "python",
   "name": "python3"
  },
  "language_info": {
   "codemirror_mode": {
    "name": "ipython",
    "version": 3
   },
   "file_extension": ".py",
   "mimetype": "text/x-python",
   "name": "python",
   "nbconvert_exporter": "python",
   "pygments_lexer": "ipython3",
   "version": "3.9.12"
  }
 },
 "nbformat": 4,
 "nbformat_minor": 5
}
