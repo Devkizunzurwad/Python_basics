{
 "cells": [
  {
   "cell_type": "code",
   "execution_count": null,
   "id": "b2acc08c",
   "metadata": {},
   "outputs": [],
   "source": [
    "# Create an assert statement that throws an AssertionError if the variable spam is a negative integer.\n",
    "assert spam >= 10, 'The spam variable is less than 10.\n"
   ]
  },
  {
   "cell_type": "code",
   "execution_count": null,
   "id": "e263785a",
   "metadata": {},
   "outputs": [],
   "source": [
    "# Write an assert statement that triggers an AssertionError if the variables eggs and bacon contain\n",
    " strings that are the same as each other, even if their cases are different (that is,hello and hello are\n",
    "considered the same, and goodbye and GOODbye are also considered the same).\n",
    "    \n",
    "assert eggs.lower() != bacon.lower(), 'The eggs and bacon variables are the same!' or assert eggs.upper() \n",
    "!= bacon.upper(), 'The eggs and bacon variables are the same!'"
   ]
  },
  {
   "cell_type": "code",
   "execution_count": null,
   "id": "9d1d27f4",
   "metadata": {},
   "outputs": [],
   "source": [
    "# Create an assert statement that throws an AssertionError every time.\n",
    "assert False, 'This assertion always triggers.'"
   ]
  },
  {
   "cell_type": "code",
   "execution_count": null,
   "id": "4af33f09",
   "metadata": {},
   "outputs": [],
   "source": [
    "# What are the two lines that must be present in your software in order to call logging.debug()?\n",
    "To be able to call logging.debug(), you must have these two lines at the start of your program:\n",
    "\n",
    "import logging\n",
    "logging.basicConfig(level=logging.DEBUG, format=' %(asctime)s -\n",
    "%(levelname)s - %(message)s')"
   ]
  },
  {
   "cell_type": "code",
   "execution_count": null,
   "id": "607c938f",
   "metadata": {},
   "outputs": [],
   "source": [
    "# What are the two lines that your program must have in order to have logging.debug() send a\n",
    "logging message to a file named programLog.txt?\n",
    "\n",
    "To be able to send logging messages to a file named programLog.txt with logging.debug(), you must have these two lines at the start of your program:\n",
    "\n",
    "import logging\n",
    "\n",
    "logging.basicConfig(filename='programLog.txt', level=logging.DEBUG,\n",
    "\n",
    "format=' %(asctime)s - %(levelname)s - %(message)s')\n"
   ]
  },
  {
   "cell_type": "code",
   "execution_count": null,
   "id": "5b579370",
   "metadata": {},
   "outputs": [],
   "source": [
    "# What are the five levels of logging?\n",
    "\n",
    "DEBUG, INFO, WARNING, ERROR, and CRITICAL"
   ]
  },
  {
   "cell_type": "code",
   "execution_count": null,
   "id": "709d3d54",
   "metadata": {},
   "outputs": [],
   "source": [
    "# What line of code would you add to your software to disable all logging messages?\n",
    "logging.disable(logging.CRITICAL)"
   ]
  },
  {
   "cell_type": "code",
   "execution_count": null,
   "id": "efc11074",
   "metadata": {},
   "outputs": [],
   "source": [
    "#  Why is using logging messages better than using print() to display the same message?\n",
    "\n",
    "You can disable logging messages without removing the logging function calls. You can selectively disable lower-level\n",
    "logging messages. You can create logging messages. Logging messages provides a timestamp."
   ]
  },
  {
   "cell_type": "code",
   "execution_count": null,
   "id": "bcba0be4",
   "metadata": {},
   "outputs": [],
   "source": [
    "# What are the differences between the Step Over, Step In, and Step Out buttons in the debugger?\n",
    "\n",
    "The Step button will move the debugger into a function call. The Over button will quickly execute the function call\n",
    "without stepping into it. The Out button will quickly execute the rest of the code until it steps out of the function it \n",
    "currently is in."
   ]
  },
  {
   "cell_type": "code",
   "execution_count": null,
   "id": "0f40d6d6",
   "metadata": {},
   "outputs": [],
   "source": [
    "# After you click Continue, when will the debugger stop ?\n",
    "\n",
    "After you click Go, the debugger will stop when it has reached the end of the program or a line with a breakpoint."
   ]
  },
  {
   "cell_type": "code",
   "execution_count": null,
   "id": "e983768d",
   "metadata": {},
   "outputs": [],
   "source": [
    "# What is the concept of a breakpoint?\n",
    "\n",
    "In software development, a breakpoint is an intentional stopping or pausing place in a program, put in place for debugging\n",
    "purposes."
   ]
  }
 ],
 "metadata": {
  "kernelspec": {
   "display_name": "Python 3 (ipykernel)",
   "language": "python",
   "name": "python3"
  },
  "language_info": {
   "codemirror_mode": {
    "name": "ipython",
    "version": 3
   },
   "file_extension": ".py",
   "mimetype": "text/x-python",
   "name": "python",
   "nbconvert_exporter": "python",
   "pygments_lexer": "ipython3",
   "version": "3.9.12"
  }
 },
 "nbformat": 4,
 "nbformat_minor": 5
}
