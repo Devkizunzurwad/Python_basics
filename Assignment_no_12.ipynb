{
 "cells": [
  {
   "cell_type": "code",
   "execution_count": null,
   "id": "02ca0f91",
   "metadata": {},
   "outputs": [],
   "source": [
    "# In what modes should the PdfFileReader() and PdfFileWriter() File objects will be opened?\n",
    "\n",
    "Image result for In what modes should the PdfFileReader() and PdfFileWriter() File objects will be opened?\n",
    "PdfFileReader in Python offers functions that help in reading & viewing the pdf file. It offers various functions \n",
    "using which you can filter the pdf on the basis of the page number, content, page mode, etc. The first step is to import the PyPDF2 module, \n",
    "type import PyPDF2."
   ]
  },
  {
   "cell_type": "code",
   "execution_count": null,
   "id": "924ac0d0",
   "metadata": {},
   "outputs": [],
   "source": [
    "# From a PdfFileReader object, how do you get a Page object for page 5?\n",
    "\n",
    "You can get a Page object by calling the getPage() method ➋ on a PdfFileReader object and passing it the page number \n",
    "of the page you're interested in—in our case, 0."
   ]
  },
  {
   "cell_type": "code",
   "execution_count": null,
   "id": "be5d120d",
   "metadata": {},
   "outputs": [],
   "source": [
    "# What PdfFileReader variable stores the number of pages in the PDF document?\n",
    "\n",
    "The total number of pages in the document is stored in the numPages attribute of a PdfFileReader object ➊."
   ]
  },
  {
   "cell_type": "code",
   "execution_count": null,
   "id": "6dd16441",
   "metadata": {},
   "outputs": [],
   "source": [
    "# If a PdfFileReader object’s PDF is encrypted with the password swordfish, what must you do\n",
    "# before you can obtain Page objects from it?\n",
    "\n"
   ]
  },
  {
   "cell_type": "code",
   "execution_count": null,
   "id": "4a894807",
   "metadata": {},
   "outputs": [],
   "source": [
    "# What methods do you use to rotate a page?\n",
    "\n",
    "Right-click the selected page or individual pages, and choose the \"Rotate Page\" option."
   ]
  },
  {
   "cell_type": "code",
   "execution_count": null,
   "id": "70f8ecd8",
   "metadata": {},
   "outputs": [],
   "source": [
    "# What is the difference between a Run object and a Paragraph object?\n",
    "\n",
    "New Paragraph objects can be added only to the end of the document, and new Run objects can be added only to the end of a \n",
    "    Paragraph object."
   ]
  },
  {
   "cell_type": "code",
   "execution_count": null,
   "id": "5a12c684",
   "metadata": {},
   "outputs": [],
   "source": [
    "# How do you obtain a list of Paragraph objects for a Document object that’s stored in a variable named doc?\n",
    "\n",
    "!pip install python-docx\n",
    "import docx\n",
    "doc = docx.Document('abc.docx')\n",
    "doc.paragraphs\n",
    "#By using doc.paragraphs\n"
   ]
  },
  {
   "cell_type": "code",
   "execution_count": null,
   "id": "05bdbe73",
   "metadata": {},
   "outputs": [],
   "source": [
    "# What type of object has bold, underline, italic, strike, and outline variables?\n",
    "\n",
    "Each Paragraph object also has a runs attribute that is a list of Run objects"
   ]
  },
  {
   "cell_type": "code",
   "execution_count": null,
   "id": "bc18a12a",
   "metadata": {},
   "outputs": [],
   "source": [
    "# What is the difference between False, True, and None for the bold variable?\n",
    "\n",
    "True means the property is “on”, False means it is “off”."
   ]
  },
  {
   "cell_type": "code",
   "execution_count": null,
   "id": "f3010c00",
   "metadata": {},
   "outputs": [],
   "source": [
    "# How do you create a Document object for a new Word document?\n",
    "\n",
    "Click or tap where you want to insert the content of the existing document.\n",
    "Go to Insert and select the arrow next to Object .\n",
    "Select Text from File.\n",
    "Locate the file that you want and then double-click it.\n",
    "To add in the contents of additional Word documents, repeat the above steps as needed."
   ]
  },
  {
   "cell_type": "code",
   "execution_count": null,
   "id": "f3836df6",
   "metadata": {},
   "outputs": [],
   "source": [
    "# How do you add a paragraph with the text Hello, there to a Document object stored in a variable named doc?\n",
    "\n",
    "String s: It is the string data that is to be added as a heading or a title. level: It is an integer number in the range 0-9.\n",
    "It raises ValueError if any value other than from this range is given as input."
   ]
  },
  {
   "cell_type": "code",
   "execution_count": null,
   "id": "f102ede9",
   "metadata": {},
   "outputs": [],
   "source": [
    "# What integers represent the levels of headings available in Word documents?\n",
    "\n",
    "ou can number headings so that top-level headings (Heading 1) are numbered 1, 2, 3, for example, and second-level headings\n",
    "(Heading 2) are numbered 1.1, 1.2, 1.3."
   ]
  }
 ],
 "metadata": {
  "kernelspec": {
   "display_name": "Python 3 (ipykernel)",
   "language": "python",
   "name": "python3"
  },
  "language_info": {
   "codemirror_mode": {
    "name": "ipython",
    "version": 3
   },
   "file_extension": ".py",
   "mimetype": "text/x-python",
   "name": "python",
   "nbconvert_exporter": "python",
   "pygments_lexer": "ipython3",
   "version": "3.9.12"
  }
 },
 "nbformat": 4,
 "nbformat_minor": 5
}
