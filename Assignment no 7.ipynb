{
 "cells": [
  {
   "cell_type": "code",
   "execution_count": null,
   "id": "989cc15f",
   "metadata": {},
   "outputs": [],
   "source": [
    "#What is the name of the feature responsible for generating Regex objects?\n",
    "The re. compile() function returns Regex objects."
   ]
  },
  {
   "cell_type": "code",
   "execution_count": null,
   "id": "3deed2c9",
   "metadata": {},
   "outputs": [],
   "source": [
    "#Why do raw strings often appear in Regex objects?\n",
    "Raw strings are used so that backslashes do not have to be escaped."
   ]
  },
  {
   "cell_type": "code",
   "execution_count": null,
   "id": "636b16e3",
   "metadata": {},
   "outputs": [],
   "source": [
    "#What is the return value of the search() method?\n",
    "The search() method returns -1 if no match is found."
   ]
  },
  {
   "cell_type": "code",
   "execution_count": null,
   "id": "45347454",
   "metadata": {},
   "outputs": [],
   "source": [
    "#From a Match item, how do you get the actual strings that match the pattern?\n",
    "Import the regex module with import re.\n",
    "Create a Regex object with the re.\n",
    "Pass the string you want to search into the Regex object's search() method.\n",
    "Call the Match object's group() method to return a string of the actual matched text.\n"
   ]
  },
  {
   "cell_type": "code",
   "execution_count": null,
   "id": "8dc60ce5",
   "metadata": {},
   "outputs": [],
   "source": [
    "# In the regex which created from the r&#39;(\\d\\d\\d)-(\\d\\d\\d-\\d\\d\\d\\d)&#39;, what does group zero cover?\n",
    "# Group 2? Group 1?\n",
    "Group 0 is the entire match, group 1 covers the first set of parentheses, and group 2 covers the second set of parentheses."
   ]
  },
  {
   "cell_type": "code",
   "execution_count": null,
   "id": "b6d7dbd2",
   "metadata": {},
   "outputs": [],
   "source": [
    "# In standard expression syntax, parentheses and intervals have distinct meanings. How can you tell\n",
    "# a regex that you want it to fit real parentheses and periods?\n",
    "Periods and parentheses can be escaped with a backslash: \\., \\(, and \\).\n"
   ]
  },
  {
   "cell_type": "code",
   "execution_count": null,
   "id": "a6b5879c",
   "metadata": {},
   "outputs": [],
   "source": [
    "# The findall() method returns a list of strings or a list of tuples of strings. What makes it return one or the other?\n",
    "If the regex has no groups, a list of strings is returned. If the regex has groups, a list of tuples of strings is returned.\n"
   ]
  },
  {
   "cell_type": "code",
   "execution_count": null,
   "id": "696b814e",
   "metadata": {},
   "outputs": [],
   "source": [
    "# In standard expressions, what does the | character mean?\n",
    "The | character signifies matching \"either, or\" between two groups."
   ]
  },
  {
   "cell_type": "code",
   "execution_count": null,
   "id": "a96de059",
   "metadata": {},
   "outputs": [],
   "source": [
    "# In regular expressions, what does the character stand for?\n",
    "In regular expressions, what does the character stand for?"
   ]
  },
  {
   "cell_type": "code",
   "execution_count": null,
   "id": "2e23a07e",
   "metadata": {},
   "outputs": [],
   "source": [
    "# In regular expressions, what is the difference between the + and * characters?\n",
    "The + matches one or more. The * matches zero or more."
   ]
  },
  {
   "cell_type": "code",
   "execution_count": null,
   "id": "084e032f",
   "metadata": {},
   "outputs": [],
   "source": [
    "# What is the difference between {4} and {4,5} in regular expression?\n",
    "The {4} matches exactly three instances of the preceding group. The {4,5} matches between three and five instances."
   ]
  },
  {
   "cell_type": "code",
   "execution_count": null,
   "id": "07e250ab",
   "metadata": {},
   "outputs": [],
   "source": [
    "# What do you mean by the \\d, \\w, and \\s shorthand character classes signify in regular expressions?\n",
    "The \\d, \\w, and \\s shorthand character classes match a single digit, word, or space character, respectively."
   ]
  },
  {
   "cell_type": "code",
   "execution_count": null,
   "id": "de8ff0c2",
   "metadata": {},
   "outputs": [],
   "source": [
    "# What do means by \\D, \\W, and \\S shorthand character classes signify in regular expressions?\n",
    "The \\D, \\W, and \\S shorthand character classes match a single character that is not a digit, word, or space character,\n",
    "respectively."
   ]
  },
  {
   "cell_type": "code",
   "execution_count": null,
   "id": "db33e35f",
   "metadata": {},
   "outputs": [],
   "source": [
    "#What is the difference between .*? and .*?\n",
    "? is non-greedy. * will match nothing, but then will try to match extra characters until it matches 1 , eventually matching 101 . "
   ]
  },
  {
   "cell_type": "code",
   "execution_count": null,
   "id": "9668f879",
   "metadata": {},
   "outputs": [],
   "source": [
    "# What is the syntax for matching both numbers and lowercase letters with a character class?\n",
    "the character class [a-zA-Z0-9] will match all lowercase letters, uppercase letters, and numbers."
   ]
  },
  {
   "cell_type": "code",
   "execution_count": null,
   "id": "d507f15f",
   "metadata": {},
   "outputs": [],
   "source": [
    "# What is the procedure for making a normal expression in regax case insensitive?\n",
    "This flag allows for case-insensitive matching of the Regular Expression with the given string i.e. expressions like [A-Z]\n",
    "will match lowercase letters, too. Generally, It's passed as an optional argument to re. compile() "
   ]
  },
  {
   "cell_type": "code",
   "execution_count": null,
   "id": "d1bc55fd",
   "metadata": {},
   "outputs": [],
   "source": [
    "# What does the . character normally match? What does it match if re.DOTALL is passed as 2nd argument in re.compile()?\n",
    "character normally matches any character except the newline character"
   ]
  },
  {
   "cell_type": "code",
   "execution_count": null,
   "id": "0b692de1",
   "metadata": {},
   "outputs": [],
   "source": [
    "# If numReg = re.compile(r\\d+;), what will numRegex.sub('x',11 drummers, 10 pipers, five rings, 4hen') return?\n",
    "X drummers, X pipers, five rings, X hens"
   ]
  },
  {
   "cell_type": "code",
   "execution_count": null,
   "id": "6995c4a2",
   "metadata": {},
   "outputs": [],
   "source": [
    "# What does passing re.VERBOSE as the 2nd argument to re.compile() allow to do?\n",
    "To ignore whitespace and comments inside the regular expression string"
   ]
  },
  {
   "cell_type": "code",
   "execution_count": null,
   "id": "bd86e753",
   "metadata": {},
   "outputs": [],
   "source": [
    "#  How would you write a regex that matches a number with commas for every three digits? It must match the following:\n",
    "\n",
    "'42'\n",
    "\n",
    "'1,234'\n",
    "\n",
    "'6,368,745'\n",
    "\n",
    "but not the following:\n",
    "\n",
    "'12,34,567' (which has only two digits between the commas)\n",
    "\n",
    "'1234' (which lacks commas)\n",
    "\n",
    "numCommas = re.compile(r'(^\\d{1,3})(,\\d{3})*$') numCommas.search('12,34,567').group()"
   ]
  },
  {
   "cell_type": "code",
   "execution_count": null,
   "id": "ac802c7f",
   "metadata": {},
   "outputs": [],
   "source": [
    "# How would you write a regex that matches a sentence where the first word is either Alice, Bob,\n",
    "or Carol; the second word is either eats, pets, or throws; the third word is apples, cats, or baseballs;\n",
    "and the sentence ends with a period? This regex should be case-insensitive. It must match the\n",
    "following:\n",
    "Alice eats apples.\n",
    "Bob pets cats.\n",
    "Carol throws baseballs.\n",
    "Alice throws Apples.\n",
    "BOB EATS CATS.\n",
    "but not the following:\n",
    "RoboCop eats apples.\n",
    "ALICE THROWS FOOTBALLS.\n",
    "Carol eats 7 cats.\n",
    "\n",
    "senRegex = re.compile(r'(Alice|Bob|Carol)\\s(eats|pets|throws)\\s(apples|cats|baseballs).', re.I|re.DOTALL)\n",
    "\n",
    "senRegex.findall('''Alice eats apples.'\n",
    "\n",
    "'Bob pets cats.'\n",
    "\n",
    "'Carol throws baseballs.'\n",
    "\n",
    "'Alice throws Apples.'\n",
    "\n",
    "'BOB EATS CATS.'\n",
    "\n",
    "but not the following:\n",
    "\n",
    "'Robocop eats apples.'\n",
    "\n",
    "'ALICE THROWS FOOTBALLS.'\n",
    "\n",
    "'Carol eats 7 cats.''')\n",
    "\n",
    "Test result: [('Alice', 'eats', 'apples'), ('Bob', 'pets', 'cats'), ('Carol', 'throws', 'baseballs'), \n",
    "              ('Alice', 'throws', 'Apples'), ('BOB', 'EATS', 'CATS')]"
   ]
  }
 ],
 "metadata": {
  "kernelspec": {
   "display_name": "Python 3 (ipykernel)",
   "language": "python",
   "name": "python3"
  },
  "language_info": {
   "codemirror_mode": {
    "name": "ipython",
    "version": 3
   },
   "file_extension": ".py",
   "mimetype": "text/x-python",
   "name": "python",
   "nbconvert_exporter": "python",
   "pygments_lexer": "ipython3",
   "version": "3.9.12"
  }
 },
 "nbformat": 4,
 "nbformat_minor": 5
}
