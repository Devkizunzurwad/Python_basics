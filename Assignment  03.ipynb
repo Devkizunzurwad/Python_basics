{
 "cells": [
  {
   "cell_type": "markdown",
   "id": "b026f470",
   "metadata": {},
   "source": [
    "# Why are functions advantageous to have in your programs?"
   ]
  },
  {
   "cell_type": "code",
   "execution_count": null,
   "id": "d159d4fe",
   "metadata": {},
   "outputs": [],
   "source": [
    "Functions makes programs shorter, easier to read, and easier to update.  "
   ]
  },
  {
   "cell_type": "markdown",
   "id": "936ac770",
   "metadata": {},
   "source": [
    "# When does the code in a function run: when it's specified or when it called?"
   ]
  },
  {
   "cell_type": "code",
   "execution_count": null,
   "id": "7b5dcb3c",
   "metadata": {},
   "outputs": [],
   "source": [
    "A function is a set of code that performs a specific task and can be used whenever needed just by calling it"
   ]
  },
  {
   "cell_type": "markdown",
   "id": "b737834a",
   "metadata": {},
   "source": [
    "# What statement creates a function? "
   ]
  },
  {
   "cell_type": "code",
   "execution_count": null,
   "id": "6dc89f78",
   "metadata": {},
   "outputs": [],
   "source": [
    "A statement that creates a new function, specifying its name, parameters, and the statements it executes."
   ]
  },
  {
   "cell_type": "markdown",
   "id": "30616873",
   "metadata": {},
   "source": [
    "# What is the difference between a function and a function call?"
   ]
  },
  {
   "cell_type": "code",
   "execution_count": null,
   "id": "f065b75a",
   "metadata": {},
   "outputs": [],
   "source": [
    "Function is a block of code that does particular operations and returns a result. and function call is used to pass the control\n",
    "to a function."
   ]
  },
  {
   "cell_type": "markdown",
   "id": "201fd42b",
   "metadata": {},
   "source": [
    "# How many global scopes are there in a Python program? How many local scopes?"
   ]
  },
  {
   "cell_type": "code",
   "execution_count": null,
   "id": "a89545db",
   "metadata": {},
   "outputs": [],
   "source": [
    "only one global space having in python program. and one local space having in python program."
   ]
  },
  {
   "cell_type": "markdown",
   "id": "90b21b33",
   "metadata": {},
   "source": [
    "#  What happens to variables in a local scope when the function call returns?"
   ]
  },
  {
   "cell_type": "code",
   "execution_count": null,
   "id": "768b3e2e",
   "metadata": {},
   "outputs": [],
   "source": [
    "when function call returns, variables in a local scope are destroyed."
   ]
  },
  {
   "cell_type": "markdown",
   "id": "7be8cf5d",
   "metadata": {},
   "source": [
    "# What is the concept of a return value? Is it possible to have a return value in an expression?"
   ]
  },
  {
   "cell_type": "code",
   "execution_count": null,
   "id": "73b877b1",
   "metadata": {},
   "outputs": [],
   "source": [
    "Return statement is used to end the execution of function call and returns the result. yes, it is possible to use return value\n",
    "in an expression."
   ]
  },
  {
   "cell_type": "markdown",
   "id": "32dde197",
   "metadata": {},
   "source": [
    "# If a function does not have a return statement, what is the return value of a call to that function?"
   ]
  },
  {
   "cell_type": "code",
   "execution_count": null,
   "id": "c402255e",
   "metadata": {},
   "outputs": [],
   "source": [
    "python implicitly returns a default value."
   ]
  },
  {
   "cell_type": "markdown",
   "id": "cd092973",
   "metadata": {},
   "source": [
    "# How do you make a function variable refer to the global variable?"
   ]
  },
  {
   "cell_type": "code",
   "execution_count": null,
   "id": "ab056745",
   "metadata": {},
   "outputs": [],
   "source": [
    "if u want to refer global variable in a function variable then you can use global keyword to declare which variables are global."
   ]
  },
  {
   "cell_type": "markdown",
   "id": "181f877b",
   "metadata": {},
   "source": [
    "# What is the data type of None?"
   ]
  },
  {
   "cell_type": "code",
   "execution_count": null,
   "id": "ee932775",
   "metadata": {},
   "outputs": [],
   "source": [
    "None is its own data type. "
   ]
  },
  {
   "cell_type": "markdown",
   "id": "15864453",
   "metadata": {},
   "source": [
    "# what does the sentence import areallyourpetsnamederic do?"
   ]
  },
  {
   "cell_type": "code",
   "execution_count": null,
   "id": "8708c45d",
   "metadata": {},
   "outputs": [],
   "source": [
    "import statement imports a module named areallyourpetsnamederic"
   ]
  },
  {
   "cell_type": "markdown",
   "id": "b27cf8f6",
   "metadata": {},
   "source": [
    "# If you had a bacon() feature in a spam module, what would you call it after importing spam?"
   ]
  },
  {
   "cell_type": "code",
   "execution_count": null,
   "id": "9593b74a",
   "metadata": {},
   "outputs": [],
   "source": [
    "spam.bacon()"
   ]
  },
  {
   "cell_type": "markdown",
   "id": "76b3fffa",
   "metadata": {},
   "source": [
    "# What can you do to save a programme from crashing if it encounters an error?"
   ]
  },
  {
   "cell_type": "code",
   "execution_count": null,
   "id": "5bd28073",
   "metadata": {},
   "outputs": [],
   "source": [
    "i can move my programme code inside a try and except statement. after that it should throw and error insted of crashing \n",
    "programme."
   ]
  },
  {
   "cell_type": "markdown",
   "id": "95ce22c4",
   "metadata": {},
   "source": [
    "# What is the purpose of the try clause? What is the purpose of the except clause?"
   ]
  },
  {
   "cell_type": "code",
   "execution_count": null,
   "id": "a0b94e17",
   "metadata": {},
   "outputs": [],
   "source": [
    "Try clause test a block of code for errors. and except clause handles the errors."
   ]
  }
 ],
 "metadata": {
  "kernelspec": {
   "display_name": "Python 3 (ipykernel)",
   "language": "python",
   "name": "python3"
  },
  "language_info": {
   "codemirror_mode": {
    "name": "ipython",
    "version": 3
   },
   "file_extension": ".py",
   "mimetype": "text/x-python",
   "name": "python",
   "nbconvert_exporter": "python",
   "pygments_lexer": "ipython3",
   "version": "3.9.12"
  }
 },
 "nbformat": 4,
 "nbformat_minor": 5
}
